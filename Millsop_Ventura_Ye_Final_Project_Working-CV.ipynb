{
 "cells": [
  {
   "cell_type": "markdown",
   "metadata": {},
   "source": [
    "# W207 Final Project Baseline"
   ]
  },
  {
   "cell_type": "markdown",
   "metadata": {},
   "source": [
    "- Authors: Christian Millsop, Chris Ventura, Stanley Ye\n",
    "- Kaggle Project: [Airbnb New User Bookings](https://www.kaggle.com/c/airbnb-recruiting-new-user-bookings/data)\n",
    "- GitHub Repo: [w207_final_airbnb](https://github.com/cmventura/w207_final_airbnb)"
   ]
  },
  {
   "cell_type": "markdown",
   "metadata": {},
   "source": [
    "## Table of Contents"
   ]
  },
  {
   "cell_type": "markdown",
   "metadata": {},
   "source": [
    "- Introduction\n",
    "- Dataset Descriptions\n",
    "- Description of Approach\n",
    "- Setup and Data Cleaning\n",
    "- Exploratory Data Analysis\n",
    "- Full Structure of Solution\n",
    "- References"
   ]
  },
  {
   "cell_type": "markdown",
   "metadata": {},
   "source": [
    "# Introduction"
   ]
  },
  {
   "cell_type": "markdown",
   "metadata": {},
   "source": [
    "For this paper, we will use various machine learning models to complete the Airbnb new user bookings Kaggle competition.  This competition was originally designed as a recruiting tool for Airbnb.  The stated goal of this competition is to predict in which country a new user will make their first booking<sup>[1]</sup>.  To complete this challenge, Airbnb and Kaggle have provided several datasets consisting of user demographics, summary statistics, and web session information to try to predict a target variable consisting of the country in which a user made their first booking.  Given that our core problem is to predict where users will make their first booking, we will attempt to answer the following research question: What is the relationship of a user profile and online activity within the Airbnb website to the travel destination?"
   ]
  },
  {
   "cell_type": "markdown",
   "metadata": {},
   "source": [
    "To answer this question we will optimize and combine several machine learning models to generate accurate destination predictions.  We will be using both derived and raw features from the datasets as inputs to these models.  Using known best practices<sup>[2][3]</sup> to examine the effect of the various features on the end predictions.  This will show both the effectiveness of various models as well as the relative importance of each feature at predicting accurate destinations.  After examination, we will be able to answer our initial research question by identifying which aspects of a user’s profile and online activity have a relationship to the selection of one or more travel destinations."
   ]
  },
  {
   "cell_type": "markdown",
   "metadata": {},
   "source": [
    "While we will be optimizing our models to accurately predict the destination country, the Kaggle competition allows for up to five predictions per user.  The competition uses the following Normalized Discounted Cumulative Gain (NDCG) formula to score results<sup>[4]</sup>:"
   ]
  },
  {
   "cell_type": "markdown",
   "metadata": {},
   "source": [
    "<img src=\"ndcg_formula.png\" align=\"center\"/>"
   ]
  },
  {
   "cell_type": "markdown",
   "metadata": {},
   "source": [
    "# Dataset Descriptions"
   ]
  },
  {
   "cell_type": "markdown",
   "metadata": {},
   "source": [
    "## Dataset: age_gender_bkts:"
   ]
  },
  {
   "cell_type": "markdown",
   "metadata": {},
   "source": [
    "This dataset contains the population, in thousands, aggregated at the following dimensions: year, age bucket, destination country, and gender."
   ]
  },
  {
   "cell_type": "markdown",
   "metadata": {},
   "source": [
    "| Column                  | Description                                                                                           |\n",
    "|-------------------------|-------------------------------------------------------------------------------------------------------|\n",
    "| age_bucket              | five-year age interval buckets, with a single bucket for 100+                                         |\n",
    "| country_destination     | the destination country dimension, can be US', 'FR', 'CA', 'GB', 'ES', 'IT', 'PT', 'NL','DE', or 'AU' |\n",
    "| gender                  |  the gender dimension, can be 'male' or 'female'                                                      |\n",
    "| population_in_thousands | the population for the specific set of dimensions                                                     |\n",
    "| year                    | the year dimension                                                                                    |"
   ]
  },
  {
   "cell_type": "markdown",
   "metadata": {},
   "source": [
    "## Dataset: countries"
   ]
  },
  {
   "cell_type": "markdown",
   "metadata": {},
   "source": [
    "This dataset lists summary information for each possible destination country."
   ]
  },
  {
   "cell_type": "markdown",
   "metadata": {},
   "source": [
    "| Column                        | Description                                                                                                           |\n",
    "|-------------------------------|-----------------------------------------------------------------------------------------------------------------------|\n",
    "| country_destination           | the destination country dimension, can be US', 'FR', 'CA', 'GB', 'ES', 'IT', 'PT', 'NL','DE', or 'AU'                 |\n",
    "| lat_destination               | the latitude of the destination country                                                                               |\n",
    "| lng_destination               | the longitude of the destination country                                                                              |\n",
    "| distance_km                   | the distance in kilometers of the country from the United States                                                      |\n",
    "| distance_km_2                 | unknown                                                                                                               |\n",
    "| destination_language          | the primary spoken language of the destination country                                                                |\n",
    "| language_levenshtein_distance | a measure of similarity between the destination_language and English, with a lower number representing a closer match |"
   ]
  },
  {
   "cell_type": "markdown",
   "metadata": {},
   "source": [
    "## Dataset: sample_submission_NDF"
   ]
  },
  {
   "cell_type": "markdown",
   "metadata": {},
   "source": [
    "This dataset contains the Kaggle submission format, consisting of the user ID and destination country.  According to the competition documentation, there can be up to five entries per user ID, with the lower index rank being the higher choice, which impacts the ultimate score returned in the scoring formula."
   ]
  },
  {
   "cell_type": "markdown",
   "metadata": {},
   "source": [
    "| Column  | Description                       |\n",
    "|---------|-----------------------------------|\n",
    "| id      | the user id                       |\n",
    "| country | the predicted destination country |"
   ]
  },
  {
   "cell_type": "markdown",
   "metadata": {},
   "source": [
    "## Dataset: sessions"
   ]
  },
  {
   "cell_type": "markdown",
   "metadata": {},
   "source": [
    "This dataset contains user session data, broken out by user action.  This data will be used to examine if user behavior patterns can be indicative of the user’s end destination choice."
   ]
  },
  {
   "cell_type": "markdown",
   "metadata": {},
   "source": [
    "| Column        | Description                                               |\n",
    "|---------------|-----------------------------------------------------------|\n",
    "| user_id       | the user id, used to connect to other datasets            |\n",
    "| action        | the action taken by the user                              |\n",
    "| action_type   | the category of the action                                |\n",
    "| action_detail | further detail of the action                              |\n",
    "| device_type   | the device on which the user performed the action         |\n",
    "| secs_elapsed  | the time elapsed between this action and the prior action |"
   ]
  },
  {
   "cell_type": "markdown",
   "metadata": {},
   "source": [
    "## Dataset: train_users_2"
   ]
  },
  {
   "cell_type": "markdown",
   "metadata": {},
   "source": [
    "This dataset contains the user id, target variable of destination country, as well as demographic and account detail information."
   ]
  },
  {
   "cell_type": "markdown",
   "metadata": {},
   "source": [
    "| Column                  | Description                                                                        |\n",
    "|-------------------------|------------------------------------------------------------------------------------|\n",
    "| id                      | the user id, used to connect to other datasets                                     |\n",
    "| date_account_created    | the date on which the user first created the account                               |\n",
    "| timestamp_first_active  | the timestamp of when the user was first active, can predate account creation  |\n",
    "| date_first_booking      | the date of the user's first booking, will be 'NaN' in event the user did not book |\n",
    "| gender                  | the gender of the user, if known                                                   |\n",
    "| age                     | the age of the user, if known                                                      |\n",
    "| signup_method           | the user's method for account signup                                               |\n",
    "| signup_flow             |                                                                                    |\n",
    "| language                | the user's selected language                                                       |\n",
    "| affiliate_channel       | indicates the channel through which the user was directed to the website           |\n",
    "| affiliate_provider      | indicates the provider of the channel, if applicable                               |\n",
    "| first_affiliate_tracked | indicates the first affiliate through which the user was tracked, if applicable    |\n",
    "| signup_app              | indicates which app the user used to create an account                             |\n",
    "| first_device_type       | indicates the first device identified for the user                                 |\n",
    "| first_browser           | indicates the first browser identified for the user                                |\n",
    "| country_destination     | the target variable; the ultimate destination selection by the user                |"
   ]
  },
  {
   "cell_type": "markdown",
   "metadata": {},
   "source": [
    "# Description of Approach"
   ]
  },
  {
   "cell_type": "markdown",
   "metadata": {},
   "source": [
    "## Initial Pipeline"
   ]
  },
  {
   "cell_type": "markdown",
   "metadata": {},
   "source": [
    "To start, we plan to construct an initial, bare-bones pipeline that will use only the (users) training dataset, while skipping all other datasets (e.g., sessions), to train a single classifier (e.g., KNN) and then generate an accuracy score on the test dataset.  In this initial pipeline, we will omit more complex operations, such as data processing and feature engineering, with the goal of generating results that can be submitted to Kaggle for evaluation using the private test data.  In addition, the bare-bones pipeline will establish baseline metrics against which to benchmark more complex models<sup>[6]</sup>."
   ]
  },
  {
   "cell_type": "markdown",
   "metadata": {},
   "source": [
    "## Feature Engineering"
   ]
  },
  {
   "cell_type": "markdown",
   "metadata": {},
   "source": [
    "For feature engineering, we will start by incorporating the remaining datasets (age_gender_bkts, countries, and sessions) into the training data for our classifiers.  Inspired by the 2nd-place winner’s strategy of creating 1312 features<sup>[7]</sup>, we will look to derive significantly more features from the couple dozen in the raw data.  As noted by the 3rd-place winner, there is room for creativity in feature engineering, since the training data is highly unbalanced  with the 12 classes having overlap<sup>[9]</sup>.  On the other hand, we will also look to discard unwanted features, since such features can degrade the performance of prediction models<sup>[8]</sup>."
   ]
  },
  {
   "cell_type": "markdown",
   "metadata": {},
   "source": [
    "## Classifiers"
   ]
  },
  {
   "cell_type": "markdown",
   "metadata": {},
   "source": [
    "Being novice students of machine learning, we will build simple classifiers that we have experienced in class, such as KNN, decision tree, and NB.  Time permitting, we will also explore more complex models, such as random forest and neural network.  Since our objective is to practice machine learning, as opposed to competing in Kaggle, we will value breadth over depth in choosing to explore more classifiers rather than fine-tuning a select few."
   ]
  },
  {
   "cell_type": "markdown",
   "metadata": {},
   "source": [
    "## Ensemble Learning"
   ]
  },
  {
   "cell_type": "markdown",
   "metadata": {},
   "source": [
    "To improve on the accuracy of single classifiers, we will use the ensemble learning technique, Stacking, to combine the predictions from multiple classifiers using a meta-classifier.  Stacking has been shown to be a popular approach for winning Kaggle competitions<sup>[5]</sup>.  We plan to start by using a simple meta-classifier, such as Logistic Regression, and time permitting, we will evaluate more complex ones, such as XGBoost<sup>[12]</sup>."
   ]
  },
  {
   "cell_type": "markdown",
   "metadata": {},
   "source": [
    "## Validation"
   ]
  },
  {
   "cell_type": "markdown",
   "metadata": {},
   "source": [
    "As mentioned in the article, Machine Learning: Validation Techniques<sup>[10]</sup>, there are many validation techniques for estimating the population error rate.  For this project, we will explore and utilize several of these techniques.  To start, we will use the Holdout technique, where we isolate the test dataset from the training one; however, with this technique, these is risk of an uneven distribution of classes in the training and test dataset<sup>[10]</sup>.  Other validation techniques being considered are random subsampling and bootstrapping.  In general, using validation techniques will help both avoid and identify potential data leakage, which would undermine the quality of the models<sup>[11]</sup>."
   ]
  },
  {
   "cell_type": "markdown",
   "metadata": {},
   "source": [
    "# Setup and Data Cleaning"
   ]
  },
  {
   "cell_type": "markdown",
   "metadata": {},
   "source": [
    "## Import Libraries"
   ]
  },
  {
   "cell_type": "code",
   "execution_count": 1,
   "metadata": {},
   "outputs": [],
   "source": [
    "%matplotlib inline\n",
    "\n",
    "import numpy as np\n",
    "import matplotlib.pyplot as plt\n",
    "import seaborn as sns\n",
    "import pandas as pd\n",
    "import os"
   ]
  },
  {
   "cell_type": "markdown",
   "metadata": {},
   "source": [
    "## Data files from Kaggle"
   ]
  },
  {
   "cell_type": "markdown",
   "metadata": {},
   "source": [
    "We will be exploring each of the data files in turn.  The below code will load all of the data files as data frames into a dictionary and then made a copy of that dictionary.  One of the dictionaries will be used as our raw representation of the data whereas the other will be the final, cleaned representation.  This is to prevent mutation of the data and allow error-free, partial re-execution of this notebook."
   ]
  },
  {
   "cell_type": "code",
   "execution_count": 2,
   "metadata": {},
   "outputs": [
    {
     "name": "stdout",
     "output_type": "stream",
     "text": [
      "age_gender_bkts.csv\n",
      "train_users_2.csv\n",
      "countries.csv\n",
      "sample_submission_NDF.csv\n",
      "sessions.csv\n",
      "test_users.csv\n"
     ]
    }
   ],
   "source": [
    "DATA_PATH = './data/extracted'\n",
    "dfs_raw = {}\n",
    "dfs = {}\n",
    "for root, dirs, files in os.walk(DATA_PATH):\n",
    "    for file in files:\n",
    "        dfs_raw[file.split('.')[0]] = pd.read_csv(f'{DATA_PATH}/{file}')\n",
    "        dfs = dfs_raw.copy()\n",
    "        print(file)"
   ]
  },
  {
   "cell_type": "markdown",
   "metadata": {},
   "source": [
    "## Dataset: age_gender_bkts"
   ]
  },
  {
   "cell_type": "markdown",
   "metadata": {},
   "source": [
    "Description: This file contains demographic information for each of the possible destination countries.  The demographics are bucketed into age ranges with gender and population count by year."
   ]
  },
  {
   "cell_type": "markdown",
   "metadata": {},
   "source": [
    "Relevance: Demographic information of the destination of the destination country might be correlated to the gender and age of the user."
   ]
  },
  {
   "cell_type": "code",
   "execution_count": 3,
   "metadata": {},
   "outputs": [
    {
     "name": "stdout",
     "output_type": "stream",
     "text": [
      "<class 'pandas.core.frame.DataFrame'>\n",
      "RangeIndex: 420 entries, 0 to 419\n",
      "Data columns (total 5 columns):\n",
      "age_bucket                 420 non-null object\n",
      "country_destination        420 non-null object\n",
      "gender                     420 non-null object\n",
      "population_in_thousands    420 non-null float64\n",
      "year                       420 non-null float64\n",
      "dtypes: float64(2), object(3)\n",
      "memory usage: 16.5+ KB\n"
     ]
    }
   ],
   "source": [
    "dfs_raw['age_gender_bkts'].info()"
   ]
  },
  {
   "cell_type": "markdown",
   "metadata": {},
   "source": [
    "Change the coding on 'year' to ensure that it is represented properly in our analyses."
   ]
  },
  {
   "cell_type": "code",
   "execution_count": 4,
   "metadata": {},
   "outputs": [],
   "source": [
    "dfs['age_gender_bkts'].year = dfs_raw['age_gender_bkts'].year.astype(int)"
   ]
  },
  {
   "cell_type": "code",
   "execution_count": 5,
   "metadata": {},
   "outputs": [
    {
     "data": {
      "text/html": [
       "<div>\n",
       "<style scoped>\n",
       "    .dataframe tbody tr th:only-of-type {\n",
       "        vertical-align: middle;\n",
       "    }\n",
       "\n",
       "    .dataframe tbody tr th {\n",
       "        vertical-align: top;\n",
       "    }\n",
       "\n",
       "    .dataframe thead th {\n",
       "        text-align: right;\n",
       "    }\n",
       "</style>\n",
       "<table border=\"1\" class=\"dataframe\">\n",
       "  <thead>\n",
       "    <tr style=\"text-align: right;\">\n",
       "      <th></th>\n",
       "      <th>age_bucket</th>\n",
       "      <th>country_destination</th>\n",
       "      <th>gender</th>\n",
       "      <th>population_in_thousands</th>\n",
       "      <th>year</th>\n",
       "    </tr>\n",
       "  </thead>\n",
       "  <tbody>\n",
       "    <tr>\n",
       "      <th>0</th>\n",
       "      <td>100+</td>\n",
       "      <td>AU</td>\n",
       "      <td>male</td>\n",
       "      <td>1.0</td>\n",
       "      <td>2015</td>\n",
       "    </tr>\n",
       "    <tr>\n",
       "      <th>1</th>\n",
       "      <td>95-99</td>\n",
       "      <td>AU</td>\n",
       "      <td>male</td>\n",
       "      <td>9.0</td>\n",
       "      <td>2015</td>\n",
       "    </tr>\n",
       "    <tr>\n",
       "      <th>2</th>\n",
       "      <td>90-94</td>\n",
       "      <td>AU</td>\n",
       "      <td>male</td>\n",
       "      <td>47.0</td>\n",
       "      <td>2015</td>\n",
       "    </tr>\n",
       "    <tr>\n",
       "      <th>3</th>\n",
       "      <td>85-89</td>\n",
       "      <td>AU</td>\n",
       "      <td>male</td>\n",
       "      <td>118.0</td>\n",
       "      <td>2015</td>\n",
       "    </tr>\n",
       "    <tr>\n",
       "      <th>4</th>\n",
       "      <td>80-84</td>\n",
       "      <td>AU</td>\n",
       "      <td>male</td>\n",
       "      <td>199.0</td>\n",
       "      <td>2015</td>\n",
       "    </tr>\n",
       "  </tbody>\n",
       "</table>\n",
       "</div>"
      ],
      "text/plain": [
       "  age_bucket country_destination gender  population_in_thousands  year\n",
       "0       100+                  AU   male                      1.0  2015\n",
       "1      95-99                  AU   male                      9.0  2015\n",
       "2      90-94                  AU   male                     47.0  2015\n",
       "3      85-89                  AU   male                    118.0  2015\n",
       "4      80-84                  AU   male                    199.0  2015"
      ]
     },
     "execution_count": 5,
     "metadata": {},
     "output_type": "execute_result"
    }
   ],
   "source": [
    "dfs['age_gender_bkts'].head()"
   ]
  },
  {
   "cell_type": "markdown",
   "metadata": {},
   "source": [
    "## Dataset: countries"
   ]
  },
  {
   "cell_type": "markdown",
   "metadata": {},
   "source": [
    "Description: Information about the destination countries, including the location and language spoken at each of the countries as well as the distance of the location and language compared to the USA (origin country).  The language codes need to be modified in order to match with the language codes used in the user datasets."
   ]
  },
  {
   "cell_type": "markdown",
   "metadata": {},
   "source": [
    "Relevance:\n",
    "+ Countries may be clustered by similarity to each other and by dissimilarity to the origin country.\n",
    "+ Specific characteristics of the traveler and destination might have a correlation."
   ]
  },
  {
   "cell_type": "code",
   "execution_count": 6,
   "metadata": {},
   "outputs": [
    {
     "name": "stdout",
     "output_type": "stream",
     "text": [
      "<class 'pandas.core.frame.DataFrame'>\n",
      "RangeIndex: 10 entries, 0 to 9\n",
      "Data columns (total 7 columns):\n",
      "country_destination              10 non-null object\n",
      "lat_destination                  10 non-null float64\n",
      "lng_destination                  10 non-null float64\n",
      "distance_km                      10 non-null float64\n",
      "destination_km2                  10 non-null float64\n",
      "destination_language             10 non-null object\n",
      "language_levenshtein_distance    10 non-null float64\n",
      "dtypes: float64(5), object(2)\n",
      "memory usage: 640.0+ bytes\n"
     ]
    }
   ],
   "source": [
    "dfs_raw['countries'].info()"
   ]
  },
  {
   "cell_type": "code",
   "execution_count": 7,
   "metadata": {},
   "outputs": [
    {
     "data": {
      "text/html": [
       "<div>\n",
       "<style scoped>\n",
       "    .dataframe tbody tr th:only-of-type {\n",
       "        vertical-align: middle;\n",
       "    }\n",
       "\n",
       "    .dataframe tbody tr th {\n",
       "        vertical-align: top;\n",
       "    }\n",
       "\n",
       "    .dataframe thead th {\n",
       "        text-align: right;\n",
       "    }\n",
       "</style>\n",
       "<table border=\"1\" class=\"dataframe\">\n",
       "  <thead>\n",
       "    <tr style=\"text-align: right;\">\n",
       "      <th></th>\n",
       "      <th>country_destination</th>\n",
       "      <th>lat_destination</th>\n",
       "      <th>lng_destination</th>\n",
       "      <th>distance_km</th>\n",
       "      <th>destination_km2</th>\n",
       "      <th>destination_language</th>\n",
       "      <th>language_levenshtein_distance</th>\n",
       "    </tr>\n",
       "  </thead>\n",
       "  <tbody>\n",
       "    <tr>\n",
       "      <th>0</th>\n",
       "      <td>AU</td>\n",
       "      <td>-26.853388</td>\n",
       "      <td>133.275160</td>\n",
       "      <td>15297.7440</td>\n",
       "      <td>7741220.0</td>\n",
       "      <td>eng</td>\n",
       "      <td>0.00</td>\n",
       "    </tr>\n",
       "    <tr>\n",
       "      <th>1</th>\n",
       "      <td>CA</td>\n",
       "      <td>62.393303</td>\n",
       "      <td>-96.818146</td>\n",
       "      <td>2828.1333</td>\n",
       "      <td>9984670.0</td>\n",
       "      <td>eng</td>\n",
       "      <td>0.00</td>\n",
       "    </tr>\n",
       "    <tr>\n",
       "      <th>2</th>\n",
       "      <td>DE</td>\n",
       "      <td>51.165707</td>\n",
       "      <td>10.452764</td>\n",
       "      <td>7879.5680</td>\n",
       "      <td>357022.0</td>\n",
       "      <td>deu</td>\n",
       "      <td>72.61</td>\n",
       "    </tr>\n",
       "    <tr>\n",
       "      <th>3</th>\n",
       "      <td>ES</td>\n",
       "      <td>39.896027</td>\n",
       "      <td>-2.487694</td>\n",
       "      <td>7730.7240</td>\n",
       "      <td>505370.0</td>\n",
       "      <td>spa</td>\n",
       "      <td>92.25</td>\n",
       "    </tr>\n",
       "    <tr>\n",
       "      <th>4</th>\n",
       "      <td>FR</td>\n",
       "      <td>46.232193</td>\n",
       "      <td>2.209667</td>\n",
       "      <td>7682.9450</td>\n",
       "      <td>643801.0</td>\n",
       "      <td>fra</td>\n",
       "      <td>92.06</td>\n",
       "    </tr>\n",
       "    <tr>\n",
       "      <th>5</th>\n",
       "      <td>GB</td>\n",
       "      <td>54.633220</td>\n",
       "      <td>-3.432277</td>\n",
       "      <td>6883.6590</td>\n",
       "      <td>243610.0</td>\n",
       "      <td>eng</td>\n",
       "      <td>0.00</td>\n",
       "    </tr>\n",
       "    <tr>\n",
       "      <th>6</th>\n",
       "      <td>IT</td>\n",
       "      <td>41.873990</td>\n",
       "      <td>12.564167</td>\n",
       "      <td>8636.6310</td>\n",
       "      <td>301340.0</td>\n",
       "      <td>ita</td>\n",
       "      <td>89.40</td>\n",
       "    </tr>\n",
       "    <tr>\n",
       "      <th>7</th>\n",
       "      <td>NL</td>\n",
       "      <td>52.133057</td>\n",
       "      <td>5.295250</td>\n",
       "      <td>7524.3203</td>\n",
       "      <td>41543.0</td>\n",
       "      <td>nld</td>\n",
       "      <td>63.22</td>\n",
       "    </tr>\n",
       "    <tr>\n",
       "      <th>8</th>\n",
       "      <td>PT</td>\n",
       "      <td>39.553444</td>\n",
       "      <td>-7.839319</td>\n",
       "      <td>7355.2534</td>\n",
       "      <td>92090.0</td>\n",
       "      <td>por</td>\n",
       "      <td>95.45</td>\n",
       "    </tr>\n",
       "    <tr>\n",
       "      <th>9</th>\n",
       "      <td>US</td>\n",
       "      <td>36.966427</td>\n",
       "      <td>-95.844030</td>\n",
       "      <td>0.0000</td>\n",
       "      <td>9826675.0</td>\n",
       "      <td>eng</td>\n",
       "      <td>0.00</td>\n",
       "    </tr>\n",
       "  </tbody>\n",
       "</table>\n",
       "</div>"
      ],
      "text/plain": [
       "  country_destination  lat_destination  lng_destination  distance_km  \\\n",
       "0                  AU       -26.853388       133.275160   15297.7440   \n",
       "1                  CA        62.393303       -96.818146    2828.1333   \n",
       "2                  DE        51.165707        10.452764    7879.5680   \n",
       "3                  ES        39.896027        -2.487694    7730.7240   \n",
       "4                  FR        46.232193         2.209667    7682.9450   \n",
       "5                  GB        54.633220        -3.432277    6883.6590   \n",
       "6                  IT        41.873990        12.564167    8636.6310   \n",
       "7                  NL        52.133057         5.295250    7524.3203   \n",
       "8                  PT        39.553444        -7.839319    7355.2534   \n",
       "9                  US        36.966427       -95.844030       0.0000   \n",
       "\n",
       "   destination_km2 destination_language   language_levenshtein_distance  \n",
       "0        7741220.0                   eng                           0.00  \n",
       "1        9984670.0                   eng                           0.00  \n",
       "2         357022.0                   deu                          72.61  \n",
       "3         505370.0                   spa                          92.25  \n",
       "4         643801.0                   fra                          92.06  \n",
       "5         243610.0                   eng                           0.00  \n",
       "6         301340.0                   ita                          89.40  \n",
       "7          41543.0                   nld                          63.22  \n",
       "8          92090.0                   por                          95.45  \n",
       "9        9826675.0                   eng                           0.00  "
      ]
     },
     "execution_count": 7,
     "metadata": {},
     "output_type": "execute_result"
    }
   ],
   "source": [
    "dfs['countries']"
   ]
  },
  {
   "cell_type": "markdown",
   "metadata": {},
   "source": [
    "Modify the language codes so that they match with the user datasets."
   ]
  },
  {
   "cell_type": "code",
   "execution_count": 8,
   "metadata": {},
   "outputs": [],
   "source": [
    "dfs['countries']['destination_language '] = pd.Series(['en', 'en', 'de', 'es', 'fr', 'en', 'it', 'nl', 'pt', 'en'])"
   ]
  },
  {
   "cell_type": "markdown",
   "metadata": {},
   "source": [
    "## Dataset: sample_submission_NDF"
   ]
  },
  {
   "cell_type": "markdown",
   "metadata": {},
   "source": [
    "Description: The results of our analysis should match the format of this file."
   ]
  },
  {
   "cell_type": "markdown",
   "metadata": {},
   "source": [
    "Relevance: This is not relevant to the analysis."
   ]
  },
  {
   "cell_type": "code",
   "execution_count": 9,
   "metadata": {},
   "outputs": [
    {
     "data": {
      "text/html": [
       "<div>\n",
       "<style scoped>\n",
       "    .dataframe tbody tr th:only-of-type {\n",
       "        vertical-align: middle;\n",
       "    }\n",
       "\n",
       "    .dataframe tbody tr th {\n",
       "        vertical-align: top;\n",
       "    }\n",
       "\n",
       "    .dataframe thead th {\n",
       "        text-align: right;\n",
       "    }\n",
       "</style>\n",
       "<table border=\"1\" class=\"dataframe\">\n",
       "  <thead>\n",
       "    <tr style=\"text-align: right;\">\n",
       "      <th></th>\n",
       "      <th>id</th>\n",
       "      <th>country</th>\n",
       "    </tr>\n",
       "  </thead>\n",
       "  <tbody>\n",
       "    <tr>\n",
       "      <th>0</th>\n",
       "      <td>5uwns89zht</td>\n",
       "      <td>NDF</td>\n",
       "    </tr>\n",
       "    <tr>\n",
       "      <th>1</th>\n",
       "      <td>jtl0dijy2j</td>\n",
       "      <td>NDF</td>\n",
       "    </tr>\n",
       "    <tr>\n",
       "      <th>2</th>\n",
       "      <td>xx0ulgorjt</td>\n",
       "      <td>NDF</td>\n",
       "    </tr>\n",
       "    <tr>\n",
       "      <th>3</th>\n",
       "      <td>6c6puo6ix0</td>\n",
       "      <td>NDF</td>\n",
       "    </tr>\n",
       "    <tr>\n",
       "      <th>4</th>\n",
       "      <td>czqhjk3yfe</td>\n",
       "      <td>NDF</td>\n",
       "    </tr>\n",
       "  </tbody>\n",
       "</table>\n",
       "</div>"
      ],
      "text/plain": [
       "           id country\n",
       "0  5uwns89zht     NDF\n",
       "1  jtl0dijy2j     NDF\n",
       "2  xx0ulgorjt     NDF\n",
       "3  6c6puo6ix0     NDF\n",
       "4  czqhjk3yfe     NDF"
      ]
     },
     "execution_count": 9,
     "metadata": {},
     "output_type": "execute_result"
    }
   ],
   "source": [
    "dfs['sample_submission_NDF'].head()"
   ]
  },
  {
   "cell_type": "markdown",
   "metadata": {},
   "source": [
    "## Dataset: sessions"
   ]
  },
  {
   "cell_type": "markdown",
   "metadata": {},
   "source": [
    "Description: User session data on the Airbnb website.  A session is a sequence of actions performed on the website.\n",
    "+ secs_elapsed = The amount of time between that action and the prior action.\n",
    "+ There is no session_id column and some of the secs_elapsed columns are extremely long.  We will assume that all visits to Airbnb are aggregated into a single session per user.  The large secs_elapsed are the intervals between user visits to Airbnb.\n",
    "+ The dataset does not tell us what searches the user performed (ie. related to a destination), only that a user was searching or interacting with the Airbnb platform in some way.\n",
    "+ device_type = Device that the user performed the action from\n",
    " + If the device changes over time is the user more engaged in making a booking through AirBnB?"
   ]
  },
  {
   "cell_type": "markdown",
   "metadata": {},
   "source": [
    "Relevance:\n",
    "+ It's hard to pinpoint the \"hard\" relevance of this dataset.  It could be used to develop an understanding of user interest/engagement or to identify whether a user has specific concerns/requirements related to their destination.\n",
    "+ Some actions appear interesting: \"view_ghosting_reasons\", \"special_offer_field\", \"airbnb_picks_wishlists\""
   ]
  },
  {
   "cell_type": "code",
   "execution_count": 10,
   "metadata": {},
   "outputs": [
    {
     "name": "stdout",
     "output_type": "stream",
     "text": [
      "<class 'pandas.core.frame.DataFrame'>\n",
      "RangeIndex: 10567737 entries, 0 to 10567736\n",
      "Data columns (total 6 columns):\n",
      "user_id          10533241 non-null object\n",
      "action           10488111 non-null object\n",
      "action_type      9441533 non-null object\n",
      "action_detail    9441533 non-null object\n",
      "device_type      10567737 non-null object\n",
      "secs_elapsed     10431706 non-null float64\n",
      "dtypes: float64(1), object(5)\n",
      "memory usage: 483.8+ MB\n"
     ]
    }
   ],
   "source": [
    "dfs_raw['sessions'].info(null_counts=True)"
   ]
  },
  {
   "cell_type": "markdown",
   "metadata": {},
   "source": [
    "Clean the 34,496 null user_id's since the sessions data can't be joined to the users data without it."
   ]
  },
  {
   "cell_type": "code",
   "execution_count": 11,
   "metadata": {},
   "outputs": [],
   "source": [
    "dfs['sessions'] = dfs_raw['sessions'].dropna(subset=['user_id'])"
   ]
  },
  {
   "cell_type": "code",
   "execution_count": 12,
   "metadata": {},
   "outputs": [
    {
     "data": {
      "text/html": [
       "<div>\n",
       "<style scoped>\n",
       "    .dataframe tbody tr th:only-of-type {\n",
       "        vertical-align: middle;\n",
       "    }\n",
       "\n",
       "    .dataframe tbody tr th {\n",
       "        vertical-align: top;\n",
       "    }\n",
       "\n",
       "    .dataframe thead th {\n",
       "        text-align: right;\n",
       "    }\n",
       "</style>\n",
       "<table border=\"1\" class=\"dataframe\">\n",
       "  <thead>\n",
       "    <tr style=\"text-align: right;\">\n",
       "      <th></th>\n",
       "      <th>user_id</th>\n",
       "      <th>action</th>\n",
       "      <th>action_type</th>\n",
       "      <th>action_detail</th>\n",
       "      <th>device_type</th>\n",
       "      <th>secs_elapsed</th>\n",
       "    </tr>\n",
       "  </thead>\n",
       "  <tbody>\n",
       "    <tr>\n",
       "      <th>0</th>\n",
       "      <td>d1mm9tcy42</td>\n",
       "      <td>lookup</td>\n",
       "      <td>NaN</td>\n",
       "      <td>NaN</td>\n",
       "      <td>Windows Desktop</td>\n",
       "      <td>319.0</td>\n",
       "    </tr>\n",
       "    <tr>\n",
       "      <th>1</th>\n",
       "      <td>d1mm9tcy42</td>\n",
       "      <td>search_results</td>\n",
       "      <td>click</td>\n",
       "      <td>view_search_results</td>\n",
       "      <td>Windows Desktop</td>\n",
       "      <td>67753.0</td>\n",
       "    </tr>\n",
       "    <tr>\n",
       "      <th>2</th>\n",
       "      <td>d1mm9tcy42</td>\n",
       "      <td>lookup</td>\n",
       "      <td>NaN</td>\n",
       "      <td>NaN</td>\n",
       "      <td>Windows Desktop</td>\n",
       "      <td>301.0</td>\n",
       "    </tr>\n",
       "    <tr>\n",
       "      <th>3</th>\n",
       "      <td>d1mm9tcy42</td>\n",
       "      <td>search_results</td>\n",
       "      <td>click</td>\n",
       "      <td>view_search_results</td>\n",
       "      <td>Windows Desktop</td>\n",
       "      <td>22141.0</td>\n",
       "    </tr>\n",
       "    <tr>\n",
       "      <th>4</th>\n",
       "      <td>d1mm9tcy42</td>\n",
       "      <td>lookup</td>\n",
       "      <td>NaN</td>\n",
       "      <td>NaN</td>\n",
       "      <td>Windows Desktop</td>\n",
       "      <td>435.0</td>\n",
       "    </tr>\n",
       "  </tbody>\n",
       "</table>\n",
       "</div>"
      ],
      "text/plain": [
       "      user_id          action action_type        action_detail  \\\n",
       "0  d1mm9tcy42          lookup         NaN                  NaN   \n",
       "1  d1mm9tcy42  search_results       click  view_search_results   \n",
       "2  d1mm9tcy42          lookup         NaN                  NaN   \n",
       "3  d1mm9tcy42  search_results       click  view_search_results   \n",
       "4  d1mm9tcy42          lookup         NaN                  NaN   \n",
       "\n",
       "       device_type  secs_elapsed  \n",
       "0  Windows Desktop         319.0  \n",
       "1  Windows Desktop       67753.0  \n",
       "2  Windows Desktop         301.0  \n",
       "3  Windows Desktop       22141.0  \n",
       "4  Windows Desktop         435.0  "
      ]
     },
     "execution_count": 12,
     "metadata": {},
     "output_type": "execute_result"
    }
   ],
   "source": [
    "dfs['sessions'].head()"
   ]
  },
  {
   "cell_type": "markdown",
   "metadata": {},
   "source": [
    "## Dataset: test_users"
   ]
  },
  {
   "cell_type": "markdown",
   "metadata": {},
   "source": [
    "Description: This dataset contains the test data that we will use once we've trained a model.  Each row is a user profile and contains basic information as well the chosen destination.\n",
    "\n",
    "+ Although we won't clean the test data, we will use it to guide cleaning of the training set.  If there are 0 records matching error-likely conditions in the test set, it supports any conclusions about removing error-likely records in the training set.\n",
    "+ The age of users seems like it has some false data or misleading.  There are users over the age of 122 (oldest known person) and under the age of 18 (less than the Airbnb terms of service).\n",
    "+ The age also has a large number of null values."
   ]
  },
  {
   "cell_type": "code",
   "execution_count": 13,
   "metadata": {},
   "outputs": [
    {
     "name": "stdout",
     "output_type": "stream",
     "text": [
      "<class 'pandas.core.frame.DataFrame'>\n",
      "RangeIndex: 62096 entries, 0 to 62095\n",
      "Data columns (total 15 columns):\n",
      "id                         62096 non-null object\n",
      "date_account_created       62096 non-null object\n",
      "timestamp_first_active     62096 non-null int64\n",
      "date_first_booking         0 non-null float64\n",
      "gender                     62096 non-null object\n",
      "age                        33220 non-null float64\n",
      "signup_method              62096 non-null object\n",
      "signup_flow                62096 non-null int64\n",
      "language                   62096 non-null object\n",
      "affiliate_channel          62096 non-null object\n",
      "affiliate_provider         62096 non-null object\n",
      "first_affiliate_tracked    62076 non-null object\n",
      "signup_app                 62096 non-null object\n",
      "first_device_type          62096 non-null object\n",
      "first_browser              62096 non-null object\n",
      "dtypes: float64(2), int64(2), object(11)\n",
      "memory usage: 7.1+ MB\n"
     ]
    }
   ],
   "source": [
    "dfs_raw['test_users'].info()"
   ]
  },
  {
   "cell_type": "code",
   "execution_count": 14,
   "metadata": {},
   "outputs": [
    {
     "data": {
      "text/html": [
       "<div>\n",
       "<style scoped>\n",
       "    .dataframe tbody tr th:only-of-type {\n",
       "        vertical-align: middle;\n",
       "    }\n",
       "\n",
       "    .dataframe tbody tr th {\n",
       "        vertical-align: top;\n",
       "    }\n",
       "\n",
       "    .dataframe thead th {\n",
       "        text-align: right;\n",
       "    }\n",
       "</style>\n",
       "<table border=\"1\" class=\"dataframe\">\n",
       "  <thead>\n",
       "    <tr style=\"text-align: right;\">\n",
       "      <th></th>\n",
       "      <th>id</th>\n",
       "      <th>date_account_created</th>\n",
       "      <th>timestamp_first_active</th>\n",
       "      <th>date_first_booking</th>\n",
       "      <th>gender</th>\n",
       "      <th>age</th>\n",
       "      <th>signup_method</th>\n",
       "      <th>signup_flow</th>\n",
       "      <th>language</th>\n",
       "      <th>affiliate_channel</th>\n",
       "      <th>affiliate_provider</th>\n",
       "      <th>first_affiliate_tracked</th>\n",
       "      <th>signup_app</th>\n",
       "      <th>first_device_type</th>\n",
       "      <th>first_browser</th>\n",
       "    </tr>\n",
       "  </thead>\n",
       "  <tbody>\n",
       "    <tr>\n",
       "      <th>0</th>\n",
       "      <td>5uwns89zht</td>\n",
       "      <td>2014-07-01</td>\n",
       "      <td>20140701000006</td>\n",
       "      <td>NaN</td>\n",
       "      <td>FEMALE</td>\n",
       "      <td>35.0</td>\n",
       "      <td>facebook</td>\n",
       "      <td>0</td>\n",
       "      <td>en</td>\n",
       "      <td>direct</td>\n",
       "      <td>direct</td>\n",
       "      <td>untracked</td>\n",
       "      <td>Moweb</td>\n",
       "      <td>iPhone</td>\n",
       "      <td>Mobile Safari</td>\n",
       "    </tr>\n",
       "    <tr>\n",
       "      <th>1</th>\n",
       "      <td>jtl0dijy2j</td>\n",
       "      <td>2014-07-01</td>\n",
       "      <td>20140701000051</td>\n",
       "      <td>NaN</td>\n",
       "      <td>-unknown-</td>\n",
       "      <td>NaN</td>\n",
       "      <td>basic</td>\n",
       "      <td>0</td>\n",
       "      <td>en</td>\n",
       "      <td>direct</td>\n",
       "      <td>direct</td>\n",
       "      <td>untracked</td>\n",
       "      <td>Moweb</td>\n",
       "      <td>iPhone</td>\n",
       "      <td>Mobile Safari</td>\n",
       "    </tr>\n",
       "    <tr>\n",
       "      <th>2</th>\n",
       "      <td>xx0ulgorjt</td>\n",
       "      <td>2014-07-01</td>\n",
       "      <td>20140701000148</td>\n",
       "      <td>NaN</td>\n",
       "      <td>-unknown-</td>\n",
       "      <td>NaN</td>\n",
       "      <td>basic</td>\n",
       "      <td>0</td>\n",
       "      <td>en</td>\n",
       "      <td>direct</td>\n",
       "      <td>direct</td>\n",
       "      <td>linked</td>\n",
       "      <td>Web</td>\n",
       "      <td>Windows Desktop</td>\n",
       "      <td>Chrome</td>\n",
       "    </tr>\n",
       "    <tr>\n",
       "      <th>3</th>\n",
       "      <td>6c6puo6ix0</td>\n",
       "      <td>2014-07-01</td>\n",
       "      <td>20140701000215</td>\n",
       "      <td>NaN</td>\n",
       "      <td>-unknown-</td>\n",
       "      <td>NaN</td>\n",
       "      <td>basic</td>\n",
       "      <td>0</td>\n",
       "      <td>en</td>\n",
       "      <td>direct</td>\n",
       "      <td>direct</td>\n",
       "      <td>linked</td>\n",
       "      <td>Web</td>\n",
       "      <td>Windows Desktop</td>\n",
       "      <td>IE</td>\n",
       "    </tr>\n",
       "    <tr>\n",
       "      <th>4</th>\n",
       "      <td>czqhjk3yfe</td>\n",
       "      <td>2014-07-01</td>\n",
       "      <td>20140701000305</td>\n",
       "      <td>NaN</td>\n",
       "      <td>-unknown-</td>\n",
       "      <td>NaN</td>\n",
       "      <td>basic</td>\n",
       "      <td>0</td>\n",
       "      <td>en</td>\n",
       "      <td>direct</td>\n",
       "      <td>direct</td>\n",
       "      <td>untracked</td>\n",
       "      <td>Web</td>\n",
       "      <td>Mac Desktop</td>\n",
       "      <td>Safari</td>\n",
       "    </tr>\n",
       "  </tbody>\n",
       "</table>\n",
       "</div>"
      ],
      "text/plain": [
       "           id date_account_created  timestamp_first_active  \\\n",
       "0  5uwns89zht           2014-07-01          20140701000006   \n",
       "1  jtl0dijy2j           2014-07-01          20140701000051   \n",
       "2  xx0ulgorjt           2014-07-01          20140701000148   \n",
       "3  6c6puo6ix0           2014-07-01          20140701000215   \n",
       "4  czqhjk3yfe           2014-07-01          20140701000305   \n",
       "\n",
       "   date_first_booking     gender   age signup_method  signup_flow language  \\\n",
       "0                 NaN     FEMALE  35.0      facebook            0       en   \n",
       "1                 NaN  -unknown-   NaN         basic            0       en   \n",
       "2                 NaN  -unknown-   NaN         basic            0       en   \n",
       "3                 NaN  -unknown-   NaN         basic            0       en   \n",
       "4                 NaN  -unknown-   NaN         basic            0       en   \n",
       "\n",
       "  affiliate_channel affiliate_provider first_affiliate_tracked signup_app  \\\n",
       "0            direct             direct               untracked      Moweb   \n",
       "1            direct             direct               untracked      Moweb   \n",
       "2            direct             direct                  linked        Web   \n",
       "3            direct             direct                  linked        Web   \n",
       "4            direct             direct               untracked        Web   \n",
       "\n",
       "  first_device_type  first_browser  \n",
       "0            iPhone  Mobile Safari  \n",
       "1            iPhone  Mobile Safari  \n",
       "2   Windows Desktop         Chrome  \n",
       "3   Windows Desktop             IE  \n",
       "4       Mac Desktop         Safari  "
      ]
     },
     "execution_count": 14,
     "metadata": {},
     "output_type": "execute_result"
    }
   ],
   "source": [
    "dfs_raw['test_users'].head()"
   ]
  },
  {
   "cell_type": "markdown",
   "metadata": {},
   "source": [
    "### Cleaning: age "
   ]
  },
  {
   "cell_type": "markdown",
   "metadata": {},
   "source": [
    "There are 49 users older than 122 and 30 younger than 18."
   ]
  },
  {
   "cell_type": "code",
   "execution_count": 15,
   "metadata": {},
   "outputs": [
    {
     "data": {
      "text/plain": [
       "49"
      ]
     },
     "execution_count": 15,
     "metadata": {},
     "output_type": "execute_result"
    }
   ],
   "source": [
    "dfs_raw['test_users'].query('age > 122').age.count()"
   ]
  },
  {
   "cell_type": "code",
   "execution_count": 16,
   "metadata": {},
   "outputs": [
    {
     "data": {
      "text/plain": [
       "30"
      ]
     },
     "execution_count": 16,
     "metadata": {},
     "output_type": "execute_result"
    }
   ],
   "source": [
    "dfs_raw['test_users'].query('age <18').age.count()"
   ]
  },
  {
   "cell_type": "markdown",
   "metadata": {},
   "source": [
    "### Cleaning: Date Account Created"
   ]
  },
  {
   "cell_type": "markdown",
   "metadata": {},
   "source": [
    "We would expect that the date_first_booking is after the date_account-created.  The test data supports this."
   ]
  },
  {
   "cell_type": "code",
   "execution_count": 17,
   "metadata": {},
   "outputs": [
    {
     "data": {
      "text/plain": [
       "0"
      ]
     },
     "execution_count": 17,
     "metadata": {},
     "output_type": "execute_result"
    }
   ],
   "source": [
    "dfs_raw['test_users'].query('date_account_created > date_first_booking').id.count()"
   ]
  },
  {
   "cell_type": "markdown",
   "metadata": {},
   "source": [
    "### Cleaning: timestamp_first_active"
   ]
  },
  {
   "cell_type": "markdown",
   "metadata": {},
   "source": [
    "We would also expect that the timestamp_first_active would be before the date_account_created.  This is also supported by the data."
   ]
  },
  {
   "cell_type": "code",
   "execution_count": 18,
   "metadata": {},
   "outputs": [
    {
     "data": {
      "text/plain": [
       "True    62096\n",
       "dtype: int64"
      ]
     },
     "execution_count": 18,
     "metadata": {},
     "output_type": "execute_result"
    }
   ],
   "source": [
    "(pd.to_datetime(dfs_raw['test_users'].date_account_created, format='%Y-%m-%d', errors='coerce') < pd.to_datetime(dfs_raw['test_users'].timestamp_first_active,format='%Y%m%d%H%M%S')).value_counts()"
   ]
  },
  {
   "cell_type": "markdown",
   "metadata": {},
   "source": [
    "## Dataset: train_users_2"
   ]
  },
  {
   "cell_type": "markdown",
   "metadata": {},
   "source": [
    "Description: This dataset contains the main training data.  It is very similar to the test data, however we'll see that the data is dirtier.\n",
    "+ date_first_booking has NaN values. We'll accept these into the dataset since they correspond to NDF destinations.\n",
    "+ first_affiliate_tracked also has a significant number of NaN.\n",
    "+ Age has bad values as well as NaN.  The NaN we will leave in since they comprise a significant portion of our training set and we expect that to be representative of real data that we encounter.  Our classifier should be capable of predicting users with NaN age."
   ]
  },
  {
   "cell_type": "markdown",
   "metadata": {},
   "source": [
    "Relevance: We will join the other datasets into this one on id and country."
   ]
  },
  {
   "cell_type": "code",
   "execution_count": 19,
   "metadata": {},
   "outputs": [
    {
     "name": "stdout",
     "output_type": "stream",
     "text": [
      "<class 'pandas.core.frame.DataFrame'>\n",
      "RangeIndex: 213451 entries, 0 to 213450\n",
      "Data columns (total 16 columns):\n",
      "id                         213451 non-null object\n",
      "date_account_created       213451 non-null object\n",
      "timestamp_first_active     213451 non-null int64\n",
      "date_first_booking         88908 non-null object\n",
      "gender                     213451 non-null object\n",
      "age                        125461 non-null float64\n",
      "signup_method              213451 non-null object\n",
      "signup_flow                213451 non-null int64\n",
      "language                   213451 non-null object\n",
      "affiliate_channel          213451 non-null object\n",
      "affiliate_provider         213451 non-null object\n",
      "first_affiliate_tracked    207386 non-null object\n",
      "signup_app                 213451 non-null object\n",
      "first_device_type          213451 non-null object\n",
      "first_browser              213451 non-null object\n",
      "country_destination        213451 non-null object\n",
      "dtypes: float64(1), int64(2), object(13)\n",
      "memory usage: 26.1+ MB\n"
     ]
    }
   ],
   "source": [
    "dfs_raw['train_users_2'].info()"
   ]
  },
  {
   "cell_type": "code",
   "execution_count": 20,
   "metadata": {},
   "outputs": [
    {
     "data": {
      "text/html": [
       "<div>\n",
       "<style scoped>\n",
       "    .dataframe tbody tr th:only-of-type {\n",
       "        vertical-align: middle;\n",
       "    }\n",
       "\n",
       "    .dataframe tbody tr th {\n",
       "        vertical-align: top;\n",
       "    }\n",
       "\n",
       "    .dataframe thead th {\n",
       "        text-align: right;\n",
       "    }\n",
       "</style>\n",
       "<table border=\"1\" class=\"dataframe\">\n",
       "  <thead>\n",
       "    <tr style=\"text-align: right;\">\n",
       "      <th></th>\n",
       "      <th>id</th>\n",
       "      <th>date_account_created</th>\n",
       "      <th>timestamp_first_active</th>\n",
       "      <th>date_first_booking</th>\n",
       "      <th>gender</th>\n",
       "      <th>age</th>\n",
       "      <th>signup_method</th>\n",
       "      <th>signup_flow</th>\n",
       "      <th>language</th>\n",
       "      <th>affiliate_channel</th>\n",
       "      <th>affiliate_provider</th>\n",
       "      <th>first_affiliate_tracked</th>\n",
       "      <th>signup_app</th>\n",
       "      <th>first_device_type</th>\n",
       "      <th>first_browser</th>\n",
       "      <th>country_destination</th>\n",
       "    </tr>\n",
       "  </thead>\n",
       "  <tbody>\n",
       "    <tr>\n",
       "      <th>0</th>\n",
       "      <td>gxn3p5htnn</td>\n",
       "      <td>2010-06-28</td>\n",
       "      <td>20090319043255</td>\n",
       "      <td>NaN</td>\n",
       "      <td>-unknown-</td>\n",
       "      <td>NaN</td>\n",
       "      <td>facebook</td>\n",
       "      <td>0</td>\n",
       "      <td>en</td>\n",
       "      <td>direct</td>\n",
       "      <td>direct</td>\n",
       "      <td>untracked</td>\n",
       "      <td>Web</td>\n",
       "      <td>Mac Desktop</td>\n",
       "      <td>Chrome</td>\n",
       "      <td>NDF</td>\n",
       "    </tr>\n",
       "    <tr>\n",
       "      <th>1</th>\n",
       "      <td>820tgsjxq7</td>\n",
       "      <td>2011-05-25</td>\n",
       "      <td>20090523174809</td>\n",
       "      <td>NaN</td>\n",
       "      <td>MALE</td>\n",
       "      <td>38.0</td>\n",
       "      <td>facebook</td>\n",
       "      <td>0</td>\n",
       "      <td>en</td>\n",
       "      <td>seo</td>\n",
       "      <td>google</td>\n",
       "      <td>untracked</td>\n",
       "      <td>Web</td>\n",
       "      <td>Mac Desktop</td>\n",
       "      <td>Chrome</td>\n",
       "      <td>NDF</td>\n",
       "    </tr>\n",
       "    <tr>\n",
       "      <th>2</th>\n",
       "      <td>4ft3gnwmtx</td>\n",
       "      <td>2010-09-28</td>\n",
       "      <td>20090609231247</td>\n",
       "      <td>2010-08-02</td>\n",
       "      <td>FEMALE</td>\n",
       "      <td>56.0</td>\n",
       "      <td>basic</td>\n",
       "      <td>3</td>\n",
       "      <td>en</td>\n",
       "      <td>direct</td>\n",
       "      <td>direct</td>\n",
       "      <td>untracked</td>\n",
       "      <td>Web</td>\n",
       "      <td>Windows Desktop</td>\n",
       "      <td>IE</td>\n",
       "      <td>US</td>\n",
       "    </tr>\n",
       "    <tr>\n",
       "      <th>3</th>\n",
       "      <td>bjjt8pjhuk</td>\n",
       "      <td>2011-12-05</td>\n",
       "      <td>20091031060129</td>\n",
       "      <td>2012-09-08</td>\n",
       "      <td>FEMALE</td>\n",
       "      <td>42.0</td>\n",
       "      <td>facebook</td>\n",
       "      <td>0</td>\n",
       "      <td>en</td>\n",
       "      <td>direct</td>\n",
       "      <td>direct</td>\n",
       "      <td>untracked</td>\n",
       "      <td>Web</td>\n",
       "      <td>Mac Desktop</td>\n",
       "      <td>Firefox</td>\n",
       "      <td>other</td>\n",
       "    </tr>\n",
       "    <tr>\n",
       "      <th>4</th>\n",
       "      <td>87mebub9p4</td>\n",
       "      <td>2010-09-14</td>\n",
       "      <td>20091208061105</td>\n",
       "      <td>2010-02-18</td>\n",
       "      <td>-unknown-</td>\n",
       "      <td>41.0</td>\n",
       "      <td>basic</td>\n",
       "      <td>0</td>\n",
       "      <td>en</td>\n",
       "      <td>direct</td>\n",
       "      <td>direct</td>\n",
       "      <td>untracked</td>\n",
       "      <td>Web</td>\n",
       "      <td>Mac Desktop</td>\n",
       "      <td>Chrome</td>\n",
       "      <td>US</td>\n",
       "    </tr>\n",
       "  </tbody>\n",
       "</table>\n",
       "</div>"
      ],
      "text/plain": [
       "           id date_account_created  timestamp_first_active date_first_booking  \\\n",
       "0  gxn3p5htnn           2010-06-28          20090319043255                NaN   \n",
       "1  820tgsjxq7           2011-05-25          20090523174809                NaN   \n",
       "2  4ft3gnwmtx           2010-09-28          20090609231247         2010-08-02   \n",
       "3  bjjt8pjhuk           2011-12-05          20091031060129         2012-09-08   \n",
       "4  87mebub9p4           2010-09-14          20091208061105         2010-02-18   \n",
       "\n",
       "      gender   age signup_method  signup_flow language affiliate_channel  \\\n",
       "0  -unknown-   NaN      facebook            0       en            direct   \n",
       "1       MALE  38.0      facebook            0       en               seo   \n",
       "2     FEMALE  56.0         basic            3       en            direct   \n",
       "3     FEMALE  42.0      facebook            0       en            direct   \n",
       "4  -unknown-  41.0         basic            0       en            direct   \n",
       "\n",
       "  affiliate_provider first_affiliate_tracked signup_app first_device_type  \\\n",
       "0             direct               untracked        Web       Mac Desktop   \n",
       "1             google               untracked        Web       Mac Desktop   \n",
       "2             direct               untracked        Web   Windows Desktop   \n",
       "3             direct               untracked        Web       Mac Desktop   \n",
       "4             direct               untracked        Web       Mac Desktop   \n",
       "\n",
       "  first_browser country_destination  \n",
       "0        Chrome                 NDF  \n",
       "1        Chrome                 NDF  \n",
       "2            IE                  US  \n",
       "3       Firefox               other  \n",
       "4        Chrome                  US  "
      ]
     },
     "execution_count": 20,
     "metadata": {},
     "output_type": "execute_result"
    }
   ],
   "source": [
    "dfs['train_users_2'].head()"
   ]
  },
  {
   "cell_type": "markdown",
   "metadata": {},
   "source": [
    "### Cleaning: age"
   ]
  },
  {
   "cell_type": "markdown",
   "metadata": {},
   "source": [
    "The oldest person in the world was 122 year old.  Our dataset contains 781 entries where the age is >122 years old.  Realistically we don't expect there to be many people anywhere near 122 years old since this is a travel and ecommerce dataset, but we can't rule out the possibility.\n",
    "\n",
    "Likewise, the minimum age to use Airbnb is 18.  There are 158 users in our dataset with an age less than that."
   ]
  },
  {
   "cell_type": "code",
   "execution_count": 21,
   "metadata": {},
   "outputs": [
    {
     "data": {
      "text/plain": [
       "781"
      ]
     },
     "execution_count": 21,
     "metadata": {},
     "output_type": "execute_result"
    }
   ],
   "source": [
    "dfs_raw['train_users_2'].query('age > 122').age.count()"
   ]
  },
  {
   "cell_type": "code",
   "execution_count": 22,
   "metadata": {},
   "outputs": [
    {
     "data": {
      "text/plain": [
       "158"
      ]
     },
     "execution_count": 22,
     "metadata": {},
     "output_type": "execute_result"
    }
   ],
   "source": [
    "dfs_raw['train_users_2'].query('age <18').age.count()"
   ]
  },
  {
   "cell_type": "code",
   "execution_count": null,
   "metadata": {},
   "outputs": [],
   "source": []
  },
  {
   "cell_type": "markdown",
   "metadata": {},
   "source": [
    "### Cleaning: Date Account Created"
   ]
  },
  {
   "cell_type": "markdown",
   "metadata": {},
   "source": [
    "29 accounts have the date_first_booking before the date_account_created.  These should be excluded."
   ]
  },
  {
   "cell_type": "code",
   "execution_count": 23,
   "metadata": {},
   "outputs": [
    {
     "data": {
      "text/plain": [
       "29"
      ]
     },
     "execution_count": 23,
     "metadata": {},
     "output_type": "execute_result"
    }
   ],
   "source": [
    "dfs_raw['train_users_2'].query('date_account_created > date_first_booking').id.count()"
   ]
  },
  {
   "cell_type": "code",
   "execution_count": 24,
   "metadata": {},
   "outputs": [],
   "source": [
    "dfs['train_users_2'].loc[:,'date_first_booking'] = pd.to_datetime(dfs_raw['train_users_2'].date_first_booking, format='%Y-%m-%d', errors='coerce')\n",
    "dfs['train_users_2'].loc[:,'date_account_created'] = pd.to_datetime(dfs_raw['train_users_2'].date_account_created, format='%Y-%m-%d', errors='coerce')"
   ]
  },
  {
   "cell_type": "code",
   "execution_count": 25,
   "metadata": {},
   "outputs": [],
   "source": [
    "dfs['train_users_2'] = dfs['train_users_2'][(dfs['train_users_2'].date_first_booking.isnull()) | (dfs['train_users_2'].date_account_created <= dfs['train_users_2'].date_first_booking)]"
   ]
  },
  {
   "cell_type": "markdown",
   "metadata": {},
   "source": [
    "### Cleaning: timestamp_first_active"
   ]
  },
  {
   "cell_type": "markdown",
   "metadata": {},
   "source": [
    "178 rows have a timestamp_first_active > date_account_created.  Since timestamp_first_active seems to indicate the first time that a user was tracked on Airbnb (before creating an account), we'll omit the relatively few rows where this doesn't hold true."
   ]
  },
  {
   "cell_type": "code",
   "execution_count": 26,
   "metadata": {},
   "outputs": [
    {
     "data": {
      "text/plain": [
       "True     213273\n",
       "False       178\n",
       "dtype: int64"
      ]
     },
     "execution_count": 26,
     "metadata": {},
     "output_type": "execute_result"
    }
   ],
   "source": [
    "(pd.to_datetime(dfs_raw['train_users_2'].date_account_created, format='%Y-%m-%d', errors='coerce') < pd.to_datetime(dfs_raw['train_users_2'].timestamp_first_active,format='%Y%m%d%H%M%S')).value_counts()"
   ]
  },
  {
   "cell_type": "code",
   "execution_count": 27,
   "metadata": {},
   "outputs": [
    {
     "name": "stderr",
     "output_type": "stream",
     "text": [
      "/home/cventura/anaconda3/lib/python3.6/site-packages/ipykernel_launcher.py:1: SettingWithCopyWarning: \n",
      "A value is trying to be set on a copy of a slice from a DataFrame.\n",
      "Try using .loc[row_indexer,col_indexer] = value instead\n",
      "\n",
      "See the caveats in the documentation: http://pandas.pydata.org/pandas-docs/stable/indexing.html#indexing-view-versus-copy\n",
      "  \"\"\"Entry point for launching an IPython kernel.\n"
     ]
    }
   ],
   "source": [
    "dfs['train_users_2']['delta_creation_active'] = dfs['train_users_2']['date_account_created'] - pd.to_datetime(dfs['train_users_2'].timestamp_first_active,format='%Y%m%d%H%M%S')"
   ]
  },
  {
   "cell_type": "code",
   "execution_count": 28,
   "metadata": {},
   "outputs": [],
   "source": [
    "dfs['train_users_2'] = dfs['train_users_2'][dfs['train_users_2'].delta_creation_active <= pd.Timedelta('0 sec')]"
   ]
  },
  {
   "cell_type": "markdown",
   "metadata": {},
   "source": [
    "# Exploratory Data Analysis"
   ]
  },
  {
   "cell_type": "markdown",
   "metadata": {},
   "source": [
    "## Univariate exploration"
   ]
  },
  {
   "cell_type": "markdown",
   "metadata": {},
   "source": [
    "Observations\n",
    "+ age-gender-bkts\n",
    "  + The age_bucket is top-coded at 100+\n",
    "  + All data is for the year 2015.  If we use this data for analysis then we need to assume that the demographic trends hold for all years in our user dataset.\n",
    "+ train_user_2\n",
    "  + A significant number of gender values are non-binary.  We should be careful to transform the gender column into separate categorical features for each of the options.\n",
    "  + ~half of the dataset did not choose a destination, most of the rest went to the US.  This will make it difficult to identify if people are going to specific foreign countries since the data related to those outcomes is relatively limited."
   ]
  },
  {
   "cell_type": "code",
   "execution_count": 29,
   "metadata": {},
   "outputs": [
    {
     "data": {
      "text/html": [
       "<div>\n",
       "<style scoped>\n",
       "    .dataframe tbody tr th:only-of-type {\n",
       "        vertical-align: middle;\n",
       "    }\n",
       "\n",
       "    .dataframe tbody tr th {\n",
       "        vertical-align: top;\n",
       "    }\n",
       "\n",
       "    .dataframe thead th {\n",
       "        text-align: right;\n",
       "    }\n",
       "</style>\n",
       "<table border=\"1\" class=\"dataframe\">\n",
       "  <thead>\n",
       "    <tr style=\"text-align: right;\">\n",
       "      <th></th>\n",
       "      <th>age_bucket</th>\n",
       "      <th>country_destination</th>\n",
       "      <th>gender</th>\n",
       "      <th>population_in_thousands</th>\n",
       "      <th>year</th>\n",
       "    </tr>\n",
       "  </thead>\n",
       "  <tbody>\n",
       "    <tr>\n",
       "      <th>count</th>\n",
       "      <td>420</td>\n",
       "      <td>420</td>\n",
       "      <td>420</td>\n",
       "      <td>420.000000</td>\n",
       "      <td>420.0</td>\n",
       "    </tr>\n",
       "    <tr>\n",
       "      <th>unique</th>\n",
       "      <td>21</td>\n",
       "      <td>10</td>\n",
       "      <td>2</td>\n",
       "      <td>NaN</td>\n",
       "      <td>NaN</td>\n",
       "    </tr>\n",
       "    <tr>\n",
       "      <th>top</th>\n",
       "      <td>50-54</td>\n",
       "      <td>US</td>\n",
       "      <td>male</td>\n",
       "      <td>NaN</td>\n",
       "      <td>NaN</td>\n",
       "    </tr>\n",
       "    <tr>\n",
       "      <th>freq</th>\n",
       "      <td>20</td>\n",
       "      <td>42</td>\n",
       "      <td>210</td>\n",
       "      <td>NaN</td>\n",
       "      <td>NaN</td>\n",
       "    </tr>\n",
       "    <tr>\n",
       "      <th>mean</th>\n",
       "      <td>NaN</td>\n",
       "      <td>NaN</td>\n",
       "      <td>NaN</td>\n",
       "      <td>1743.133333</td>\n",
       "      <td>2015.0</td>\n",
       "    </tr>\n",
       "    <tr>\n",
       "      <th>std</th>\n",
       "      <td>NaN</td>\n",
       "      <td>NaN</td>\n",
       "      <td>NaN</td>\n",
       "      <td>2509.843202</td>\n",
       "      <td>0.0</td>\n",
       "    </tr>\n",
       "    <tr>\n",
       "      <th>min</th>\n",
       "      <td>NaN</td>\n",
       "      <td>NaN</td>\n",
       "      <td>NaN</td>\n",
       "      <td>0.000000</td>\n",
       "      <td>2015.0</td>\n",
       "    </tr>\n",
       "    <tr>\n",
       "      <th>25%</th>\n",
       "      <td>NaN</td>\n",
       "      <td>NaN</td>\n",
       "      <td>NaN</td>\n",
       "      <td>396.500000</td>\n",
       "      <td>2015.0</td>\n",
       "    </tr>\n",
       "    <tr>\n",
       "      <th>50%</th>\n",
       "      <td>NaN</td>\n",
       "      <td>NaN</td>\n",
       "      <td>NaN</td>\n",
       "      <td>1090.500000</td>\n",
       "      <td>2015.0</td>\n",
       "    </tr>\n",
       "    <tr>\n",
       "      <th>75%</th>\n",
       "      <td>NaN</td>\n",
       "      <td>NaN</td>\n",
       "      <td>NaN</td>\n",
       "      <td>1968.000000</td>\n",
       "      <td>2015.0</td>\n",
       "    </tr>\n",
       "    <tr>\n",
       "      <th>max</th>\n",
       "      <td>NaN</td>\n",
       "      <td>NaN</td>\n",
       "      <td>NaN</td>\n",
       "      <td>11601.000000</td>\n",
       "      <td>2015.0</td>\n",
       "    </tr>\n",
       "  </tbody>\n",
       "</table>\n",
       "</div>"
      ],
      "text/plain": [
       "       age_bucket country_destination gender  population_in_thousands    year\n",
       "count         420                 420    420               420.000000   420.0\n",
       "unique         21                  10      2                      NaN     NaN\n",
       "top         50-54                  US   male                      NaN     NaN\n",
       "freq           20                  42    210                      NaN     NaN\n",
       "mean          NaN                 NaN    NaN              1743.133333  2015.0\n",
       "std           NaN                 NaN    NaN              2509.843202     0.0\n",
       "min           NaN                 NaN    NaN                 0.000000  2015.0\n",
       "25%           NaN                 NaN    NaN               396.500000  2015.0\n",
       "50%           NaN                 NaN    NaN              1090.500000  2015.0\n",
       "75%           NaN                 NaN    NaN              1968.000000  2015.0\n",
       "max           NaN                 NaN    NaN             11601.000000  2015.0"
      ]
     },
     "execution_count": 29,
     "metadata": {},
     "output_type": "execute_result"
    }
   ],
   "source": [
    "dfs['age_gender_bkts'].describe(include='all')"
   ]
  },
  {
   "cell_type": "code",
   "execution_count": 30,
   "metadata": {},
   "outputs": [
    {
     "data": {
      "text/html": [
       "<div>\n",
       "<style scoped>\n",
       "    .dataframe tbody tr th:only-of-type {\n",
       "        vertical-align: middle;\n",
       "    }\n",
       "\n",
       "    .dataframe tbody tr th {\n",
       "        vertical-align: top;\n",
       "    }\n",
       "\n",
       "    .dataframe thead th {\n",
       "        text-align: right;\n",
       "    }\n",
       "</style>\n",
       "<table border=\"1\" class=\"dataframe\">\n",
       "  <thead>\n",
       "    <tr style=\"text-align: right;\">\n",
       "      <th></th>\n",
       "      <th>age_bucket</th>\n",
       "      <th>country_destination</th>\n",
       "      <th>gender</th>\n",
       "      <th>population_in_thousands</th>\n",
       "      <th>year</th>\n",
       "    </tr>\n",
       "  </thead>\n",
       "  <tbody>\n",
       "    <tr>\n",
       "      <th>count</th>\n",
       "      <td>420</td>\n",
       "      <td>420</td>\n",
       "      <td>420</td>\n",
       "      <td>420.000000</td>\n",
       "      <td>420.0</td>\n",
       "    </tr>\n",
       "    <tr>\n",
       "      <th>unique</th>\n",
       "      <td>21</td>\n",
       "      <td>10</td>\n",
       "      <td>2</td>\n",
       "      <td>NaN</td>\n",
       "      <td>NaN</td>\n",
       "    </tr>\n",
       "    <tr>\n",
       "      <th>top</th>\n",
       "      <td>50-54</td>\n",
       "      <td>US</td>\n",
       "      <td>male</td>\n",
       "      <td>NaN</td>\n",
       "      <td>NaN</td>\n",
       "    </tr>\n",
       "    <tr>\n",
       "      <th>freq</th>\n",
       "      <td>20</td>\n",
       "      <td>42</td>\n",
       "      <td>210</td>\n",
       "      <td>NaN</td>\n",
       "      <td>NaN</td>\n",
       "    </tr>\n",
       "    <tr>\n",
       "      <th>mean</th>\n",
       "      <td>NaN</td>\n",
       "      <td>NaN</td>\n",
       "      <td>NaN</td>\n",
       "      <td>1743.133333</td>\n",
       "      <td>2015.0</td>\n",
       "    </tr>\n",
       "    <tr>\n",
       "      <th>std</th>\n",
       "      <td>NaN</td>\n",
       "      <td>NaN</td>\n",
       "      <td>NaN</td>\n",
       "      <td>2509.843202</td>\n",
       "      <td>0.0</td>\n",
       "    </tr>\n",
       "    <tr>\n",
       "      <th>min</th>\n",
       "      <td>NaN</td>\n",
       "      <td>NaN</td>\n",
       "      <td>NaN</td>\n",
       "      <td>0.000000</td>\n",
       "      <td>2015.0</td>\n",
       "    </tr>\n",
       "    <tr>\n",
       "      <th>25%</th>\n",
       "      <td>NaN</td>\n",
       "      <td>NaN</td>\n",
       "      <td>NaN</td>\n",
       "      <td>396.500000</td>\n",
       "      <td>2015.0</td>\n",
       "    </tr>\n",
       "    <tr>\n",
       "      <th>50%</th>\n",
       "      <td>NaN</td>\n",
       "      <td>NaN</td>\n",
       "      <td>NaN</td>\n",
       "      <td>1090.500000</td>\n",
       "      <td>2015.0</td>\n",
       "    </tr>\n",
       "    <tr>\n",
       "      <th>75%</th>\n",
       "      <td>NaN</td>\n",
       "      <td>NaN</td>\n",
       "      <td>NaN</td>\n",
       "      <td>1968.000000</td>\n",
       "      <td>2015.0</td>\n",
       "    </tr>\n",
       "    <tr>\n",
       "      <th>max</th>\n",
       "      <td>NaN</td>\n",
       "      <td>NaN</td>\n",
       "      <td>NaN</td>\n",
       "      <td>11601.000000</td>\n",
       "      <td>2015.0</td>\n",
       "    </tr>\n",
       "  </tbody>\n",
       "</table>\n",
       "</div>"
      ],
      "text/plain": [
       "       age_bucket country_destination gender  population_in_thousands    year\n",
       "count         420                 420    420               420.000000   420.0\n",
       "unique         21                  10      2                      NaN     NaN\n",
       "top         50-54                  US   male                      NaN     NaN\n",
       "freq           20                  42    210                      NaN     NaN\n",
       "mean          NaN                 NaN    NaN              1743.133333  2015.0\n",
       "std           NaN                 NaN    NaN              2509.843202     0.0\n",
       "min           NaN                 NaN    NaN                 0.000000  2015.0\n",
       "25%           NaN                 NaN    NaN               396.500000  2015.0\n",
       "50%           NaN                 NaN    NaN              1090.500000  2015.0\n",
       "75%           NaN                 NaN    NaN              1968.000000  2015.0\n",
       "max           NaN                 NaN    NaN             11601.000000  2015.0"
      ]
     },
     "execution_count": 30,
     "metadata": {},
     "output_type": "execute_result"
    }
   ],
   "source": [
    "dfs['age_gender_bkts'].describe(include='all')"
   ]
  },
  {
   "cell_type": "code",
   "execution_count": 31,
   "metadata": {},
   "outputs": [
    {
     "data": {
      "text/plain": [
       "array(['100+', '95-99', '90-94', '85-89', '80-84', '75-79', '70-74',\n",
       "       '65-69', '60-64', '55-59', '50-54', '45-49', '40-44', '35-39',\n",
       "       '30-34', '25-29', '20-24', '15-19', '10-14', '5-9', '0-4'],\n",
       "      dtype=object)"
      ]
     },
     "execution_count": 31,
     "metadata": {},
     "output_type": "execute_result"
    }
   ],
   "source": [
    "dfs['age_gender_bkts']['age_bucket'].unique()"
   ]
  },
  {
   "cell_type": "code",
   "execution_count": 32,
   "metadata": {},
   "outputs": [
    {
     "data": {
      "text/html": [
       "<div>\n",
       "<style scoped>\n",
       "    .dataframe tbody tr th:only-of-type {\n",
       "        vertical-align: middle;\n",
       "    }\n",
       "\n",
       "    .dataframe tbody tr th {\n",
       "        vertical-align: top;\n",
       "    }\n",
       "\n",
       "    .dataframe thead th {\n",
       "        text-align: right;\n",
       "    }\n",
       "</style>\n",
       "<table border=\"1\" class=\"dataframe\">\n",
       "  <thead>\n",
       "    <tr style=\"text-align: right;\">\n",
       "      <th></th>\n",
       "      <th>user_id</th>\n",
       "      <th>action</th>\n",
       "      <th>action_type</th>\n",
       "      <th>action_detail</th>\n",
       "      <th>device_type</th>\n",
       "      <th>secs_elapsed</th>\n",
       "    </tr>\n",
       "  </thead>\n",
       "  <tbody>\n",
       "    <tr>\n",
       "      <th>count</th>\n",
       "      <td>10533241</td>\n",
       "      <td>10453761</td>\n",
       "      <td>9410284</td>\n",
       "      <td>9410284</td>\n",
       "      <td>10533241</td>\n",
       "      <td>1.039776e+07</td>\n",
       "    </tr>\n",
       "    <tr>\n",
       "      <th>unique</th>\n",
       "      <td>135483</td>\n",
       "      <td>359</td>\n",
       "      <td>10</td>\n",
       "      <td>155</td>\n",
       "      <td>14</td>\n",
       "      <td>NaN</td>\n",
       "    </tr>\n",
       "    <tr>\n",
       "      <th>top</th>\n",
       "      <td>mxqbh3ykxl</td>\n",
       "      <td>show</td>\n",
       "      <td>view</td>\n",
       "      <td>view_search_results</td>\n",
       "      <td>Mac Desktop</td>\n",
       "      <td>NaN</td>\n",
       "    </tr>\n",
       "    <tr>\n",
       "      <th>freq</th>\n",
       "      <td>2722</td>\n",
       "      <td>2758985</td>\n",
       "      <td>3549375</td>\n",
       "      <td>1771026</td>\n",
       "      <td>3585886</td>\n",
       "      <td>NaN</td>\n",
       "    </tr>\n",
       "    <tr>\n",
       "      <th>mean</th>\n",
       "      <td>NaN</td>\n",
       "      <td>NaN</td>\n",
       "      <td>NaN</td>\n",
       "      <td>NaN</td>\n",
       "      <td>NaN</td>\n",
       "      <td>1.941124e+04</td>\n",
       "    </tr>\n",
       "    <tr>\n",
       "      <th>std</th>\n",
       "      <td>NaN</td>\n",
       "      <td>NaN</td>\n",
       "      <td>NaN</td>\n",
       "      <td>NaN</td>\n",
       "      <td>NaN</td>\n",
       "      <td>8.890920e+04</td>\n",
       "    </tr>\n",
       "    <tr>\n",
       "      <th>min</th>\n",
       "      <td>NaN</td>\n",
       "      <td>NaN</td>\n",
       "      <td>NaN</td>\n",
       "      <td>NaN</td>\n",
       "      <td>NaN</td>\n",
       "      <td>0.000000e+00</td>\n",
       "    </tr>\n",
       "    <tr>\n",
       "      <th>25%</th>\n",
       "      <td>NaN</td>\n",
       "      <td>NaN</td>\n",
       "      <td>NaN</td>\n",
       "      <td>NaN</td>\n",
       "      <td>NaN</td>\n",
       "      <td>2.290000e+02</td>\n",
       "    </tr>\n",
       "    <tr>\n",
       "      <th>50%</th>\n",
       "      <td>NaN</td>\n",
       "      <td>NaN</td>\n",
       "      <td>NaN</td>\n",
       "      <td>NaN</td>\n",
       "      <td>NaN</td>\n",
       "      <td>1.146000e+03</td>\n",
       "    </tr>\n",
       "    <tr>\n",
       "      <th>75%</th>\n",
       "      <td>NaN</td>\n",
       "      <td>NaN</td>\n",
       "      <td>NaN</td>\n",
       "      <td>NaN</td>\n",
       "      <td>NaN</td>\n",
       "      <td>8.442000e+03</td>\n",
       "    </tr>\n",
       "    <tr>\n",
       "      <th>max</th>\n",
       "      <td>NaN</td>\n",
       "      <td>NaN</td>\n",
       "      <td>NaN</td>\n",
       "      <td>NaN</td>\n",
       "      <td>NaN</td>\n",
       "      <td>1.799977e+06</td>\n",
       "    </tr>\n",
       "  </tbody>\n",
       "</table>\n",
       "</div>"
      ],
      "text/plain": [
       "           user_id    action action_type        action_detail  device_type  \\\n",
       "count     10533241  10453761     9410284              9410284     10533241   \n",
       "unique      135483       359          10                  155           14   \n",
       "top     mxqbh3ykxl      show        view  view_search_results  Mac Desktop   \n",
       "freq          2722   2758985     3549375              1771026      3585886   \n",
       "mean           NaN       NaN         NaN                  NaN          NaN   \n",
       "std            NaN       NaN         NaN                  NaN          NaN   \n",
       "min            NaN       NaN         NaN                  NaN          NaN   \n",
       "25%            NaN       NaN         NaN                  NaN          NaN   \n",
       "50%            NaN       NaN         NaN                  NaN          NaN   \n",
       "75%            NaN       NaN         NaN                  NaN          NaN   \n",
       "max            NaN       NaN         NaN                  NaN          NaN   \n",
       "\n",
       "        secs_elapsed  \n",
       "count   1.039776e+07  \n",
       "unique           NaN  \n",
       "top              NaN  \n",
       "freq             NaN  \n",
       "mean    1.941124e+04  \n",
       "std     8.890920e+04  \n",
       "min     0.000000e+00  \n",
       "25%     2.290000e+02  \n",
       "50%     1.146000e+03  \n",
       "75%     8.442000e+03  \n",
       "max     1.799977e+06  "
      ]
     },
     "execution_count": 32,
     "metadata": {},
     "output_type": "execute_result"
    }
   ],
   "source": [
    "dfs['sessions'].describe(include='all')"
   ]
  },
  {
   "cell_type": "code",
   "execution_count": 33,
   "metadata": {},
   "outputs": [
    {
     "data": {
      "text/html": [
       "<div>\n",
       "<style scoped>\n",
       "    .dataframe tbody tr th:only-of-type {\n",
       "        vertical-align: middle;\n",
       "    }\n",
       "\n",
       "    .dataframe tbody tr th {\n",
       "        vertical-align: top;\n",
       "    }\n",
       "\n",
       "    .dataframe thead th {\n",
       "        text-align: right;\n",
       "    }\n",
       "</style>\n",
       "<table border=\"1\" class=\"dataframe\">\n",
       "  <thead>\n",
       "    <tr style=\"text-align: right;\">\n",
       "      <th></th>\n",
       "      <th>id</th>\n",
       "      <th>date_account_created</th>\n",
       "      <th>timestamp_first_active</th>\n",
       "      <th>date_first_booking</th>\n",
       "      <th>gender</th>\n",
       "      <th>age</th>\n",
       "      <th>signup_method</th>\n",
       "      <th>signup_flow</th>\n",
       "      <th>language</th>\n",
       "      <th>affiliate_channel</th>\n",
       "      <th>affiliate_provider</th>\n",
       "      <th>first_affiliate_tracked</th>\n",
       "      <th>signup_app</th>\n",
       "      <th>first_device_type</th>\n",
       "      <th>first_browser</th>\n",
       "      <th>country_destination</th>\n",
       "      <th>delta_creation_active</th>\n",
       "    </tr>\n",
       "  </thead>\n",
       "  <tbody>\n",
       "    <tr>\n",
       "      <th>count</th>\n",
       "      <td>213273</td>\n",
       "      <td>213273</td>\n",
       "      <td>2.132730e+05</td>\n",
       "      <td>88784</td>\n",
       "      <td>213273</td>\n",
       "      <td>125304.000000</td>\n",
       "      <td>213273</td>\n",
       "      <td>213273.00000</td>\n",
       "      <td>213273</td>\n",
       "      <td>213273</td>\n",
       "      <td>213273</td>\n",
       "      <td>207212</td>\n",
       "      <td>213273</td>\n",
       "      <td>213273</td>\n",
       "      <td>213273</td>\n",
       "      <td>213273</td>\n",
       "      <td>213273</td>\n",
       "    </tr>\n",
       "    <tr>\n",
       "      <th>unique</th>\n",
       "      <td>213273</td>\n",
       "      <td>1634</td>\n",
       "      <td>NaN</td>\n",
       "      <td>1976</td>\n",
       "      <td>4</td>\n",
       "      <td>NaN</td>\n",
       "      <td>3</td>\n",
       "      <td>NaN</td>\n",
       "      <td>25</td>\n",
       "      <td>8</td>\n",
       "      <td>18</td>\n",
       "      <td>7</td>\n",
       "      <td>4</td>\n",
       "      <td>9</td>\n",
       "      <td>52</td>\n",
       "      <td>12</td>\n",
       "      <td>NaN</td>\n",
       "    </tr>\n",
       "    <tr>\n",
       "      <th>top</th>\n",
       "      <td>e4i7fe7t2x</td>\n",
       "      <td>2014-05-13 00:00:00</td>\n",
       "      <td>NaN</td>\n",
       "      <td>2014-05-22 00:00:00</td>\n",
       "      <td>-unknown-</td>\n",
       "      <td>NaN</td>\n",
       "      <td>basic</td>\n",
       "      <td>NaN</td>\n",
       "      <td>en</td>\n",
       "      <td>direct</td>\n",
       "      <td>direct</td>\n",
       "      <td>untracked</td>\n",
       "      <td>Web</td>\n",
       "      <td>Mac Desktop</td>\n",
       "      <td>Chrome</td>\n",
       "      <td>NDF</td>\n",
       "      <td>NaN</td>\n",
       "    </tr>\n",
       "    <tr>\n",
       "      <th>freq</th>\n",
       "      <td>1</td>\n",
       "      <td>673</td>\n",
       "      <td>NaN</td>\n",
       "      <td>247</td>\n",
       "      <td>95656</td>\n",
       "      <td>NaN</td>\n",
       "      <td>152775</td>\n",
       "      <td>NaN</td>\n",
       "      <td>206137</td>\n",
       "      <td>137599</td>\n",
       "      <td>137299</td>\n",
       "      <td>109133</td>\n",
       "      <td>182562</td>\n",
       "      <td>89512</td>\n",
       "      <td>63792</td>\n",
       "      <td>124489</td>\n",
       "      <td>NaN</td>\n",
       "    </tr>\n",
       "    <tr>\n",
       "      <th>first</th>\n",
       "      <td>NaN</td>\n",
       "      <td>2010-01-01 00:00:00</td>\n",
       "      <td>NaN</td>\n",
       "      <td>2010-01-02 00:00:00</td>\n",
       "      <td>NaN</td>\n",
       "      <td>NaN</td>\n",
       "      <td>NaN</td>\n",
       "      <td>NaN</td>\n",
       "      <td>NaN</td>\n",
       "      <td>NaN</td>\n",
       "      <td>NaN</td>\n",
       "      <td>NaN</td>\n",
       "      <td>NaN</td>\n",
       "      <td>NaN</td>\n",
       "      <td>NaN</td>\n",
       "      <td>NaN</td>\n",
       "      <td>NaN</td>\n",
       "    </tr>\n",
       "    <tr>\n",
       "      <th>last</th>\n",
       "      <td>NaN</td>\n",
       "      <td>2014-06-30 00:00:00</td>\n",
       "      <td>NaN</td>\n",
       "      <td>2015-06-29 00:00:00</td>\n",
       "      <td>NaN</td>\n",
       "      <td>NaN</td>\n",
       "      <td>NaN</td>\n",
       "      <td>NaN</td>\n",
       "      <td>NaN</td>\n",
       "      <td>NaN</td>\n",
       "      <td>NaN</td>\n",
       "      <td>NaN</td>\n",
       "      <td>NaN</td>\n",
       "      <td>NaN</td>\n",
       "      <td>NaN</td>\n",
       "      <td>NaN</td>\n",
       "      <td>NaN</td>\n",
       "    </tr>\n",
       "    <tr>\n",
       "      <th>mean</th>\n",
       "      <td>NaN</td>\n",
       "      <td>NaN</td>\n",
       "      <td>2.013086e+13</td>\n",
       "      <td>NaN</td>\n",
       "      <td>NaN</td>\n",
       "      <td>49.648535</td>\n",
       "      <td>NaN</td>\n",
       "      <td>3.26739</td>\n",
       "      <td>NaN</td>\n",
       "      <td>NaN</td>\n",
       "      <td>NaN</td>\n",
       "      <td>NaN</td>\n",
       "      <td>NaN</td>\n",
       "      <td>NaN</td>\n",
       "      <td>NaN</td>\n",
       "      <td>NaN</td>\n",
       "      <td>-1 days +11:15:27.181279</td>\n",
       "    </tr>\n",
       "    <tr>\n",
       "      <th>std</th>\n",
       "      <td>NaN</td>\n",
       "      <td>NaN</td>\n",
       "      <td>9.245173e+09</td>\n",
       "      <td>NaN</td>\n",
       "      <td>NaN</td>\n",
       "      <td>155.565416</td>\n",
       "      <td>NaN</td>\n",
       "      <td>7.63818</td>\n",
       "      <td>NaN</td>\n",
       "      <td>NaN</td>\n",
       "      <td>NaN</td>\n",
       "      <td>NaN</td>\n",
       "      <td>NaN</td>\n",
       "      <td>NaN</td>\n",
       "      <td>NaN</td>\n",
       "      <td>NaN</td>\n",
       "      <td>0 days 08:04:00.099961</td>\n",
       "    </tr>\n",
       "    <tr>\n",
       "      <th>min</th>\n",
       "      <td>NaN</td>\n",
       "      <td>NaN</td>\n",
       "      <td>2.010010e+13</td>\n",
       "      <td>NaN</td>\n",
       "      <td>NaN</td>\n",
       "      <td>1.000000</td>\n",
       "      <td>NaN</td>\n",
       "      <td>0.00000</td>\n",
       "      <td>NaN</td>\n",
       "      <td>NaN</td>\n",
       "      <td>NaN</td>\n",
       "      <td>NaN</td>\n",
       "      <td>NaN</td>\n",
       "      <td>NaN</td>\n",
       "      <td>NaN</td>\n",
       "      <td>NaN</td>\n",
       "      <td>-1 days +00:00:01</td>\n",
       "    </tr>\n",
       "    <tr>\n",
       "      <th>25%</th>\n",
       "      <td>NaN</td>\n",
       "      <td>NaN</td>\n",
       "      <td>2.012123e+13</td>\n",
       "      <td>NaN</td>\n",
       "      <td>NaN</td>\n",
       "      <td>28.000000</td>\n",
       "      <td>NaN</td>\n",
       "      <td>0.00000</td>\n",
       "      <td>NaN</td>\n",
       "      <td>NaN</td>\n",
       "      <td>NaN</td>\n",
       "      <td>NaN</td>\n",
       "      <td>NaN</td>\n",
       "      <td>NaN</td>\n",
       "      <td>NaN</td>\n",
       "      <td>NaN</td>\n",
       "      <td>-1 days +03:50:48</td>\n",
       "    </tr>\n",
       "    <tr>\n",
       "      <th>50%</th>\n",
       "      <td>NaN</td>\n",
       "      <td>NaN</td>\n",
       "      <td>2.013091e+13</td>\n",
       "      <td>NaN</td>\n",
       "      <td>NaN</td>\n",
       "      <td>34.000000</td>\n",
       "      <td>NaN</td>\n",
       "      <td>0.00000</td>\n",
       "      <td>NaN</td>\n",
       "      <td>NaN</td>\n",
       "      <td>NaN</td>\n",
       "      <td>NaN</td>\n",
       "      <td>NaN</td>\n",
       "      <td>NaN</td>\n",
       "      <td>NaN</td>\n",
       "      <td>NaN</td>\n",
       "      <td>-1 days +08:16:36</td>\n",
       "    </tr>\n",
       "    <tr>\n",
       "      <th>75%</th>\n",
       "      <td>NaN</td>\n",
       "      <td>NaN</td>\n",
       "      <td>2.014031e+13</td>\n",
       "      <td>NaN</td>\n",
       "      <td>NaN</td>\n",
       "      <td>43.000000</td>\n",
       "      <td>NaN</td>\n",
       "      <td>0.00000</td>\n",
       "      <td>NaN</td>\n",
       "      <td>NaN</td>\n",
       "      <td>NaN</td>\n",
       "      <td>NaN</td>\n",
       "      <td>NaN</td>\n",
       "      <td>NaN</td>\n",
       "      <td>NaN</td>\n",
       "      <td>NaN</td>\n",
       "      <td>-1 days +19:21:00</td>\n",
       "    </tr>\n",
       "    <tr>\n",
       "      <th>max</th>\n",
       "      <td>NaN</td>\n",
       "      <td>NaN</td>\n",
       "      <td>2.014063e+13</td>\n",
       "      <td>NaN</td>\n",
       "      <td>NaN</td>\n",
       "      <td>2014.000000</td>\n",
       "      <td>NaN</td>\n",
       "      <td>25.00000</td>\n",
       "      <td>NaN</td>\n",
       "      <td>NaN</td>\n",
       "      <td>NaN</td>\n",
       "      <td>NaN</td>\n",
       "      <td>NaN</td>\n",
       "      <td>NaN</td>\n",
       "      <td>NaN</td>\n",
       "      <td>NaN</td>\n",
       "      <td>-1 days +23:59:59</td>\n",
       "    </tr>\n",
       "  </tbody>\n",
       "</table>\n",
       "</div>"
      ],
      "text/plain": [
       "                id date_account_created  timestamp_first_active  \\\n",
       "count       213273               213273            2.132730e+05   \n",
       "unique      213273                 1634                     NaN   \n",
       "top     e4i7fe7t2x  2014-05-13 00:00:00                     NaN   \n",
       "freq             1                  673                     NaN   \n",
       "first          NaN  2010-01-01 00:00:00                     NaN   \n",
       "last           NaN  2014-06-30 00:00:00                     NaN   \n",
       "mean           NaN                  NaN            2.013086e+13   \n",
       "std            NaN                  NaN            9.245173e+09   \n",
       "min            NaN                  NaN            2.010010e+13   \n",
       "25%            NaN                  NaN            2.012123e+13   \n",
       "50%            NaN                  NaN            2.013091e+13   \n",
       "75%            NaN                  NaN            2.014031e+13   \n",
       "max            NaN                  NaN            2.014063e+13   \n",
       "\n",
       "         date_first_booking     gender            age signup_method  \\\n",
       "count                 88784     213273  125304.000000        213273   \n",
       "unique                 1976          4            NaN             3   \n",
       "top     2014-05-22 00:00:00  -unknown-            NaN         basic   \n",
       "freq                    247      95656            NaN        152775   \n",
       "first   2010-01-02 00:00:00        NaN            NaN           NaN   \n",
       "last    2015-06-29 00:00:00        NaN            NaN           NaN   \n",
       "mean                    NaN        NaN      49.648535           NaN   \n",
       "std                     NaN        NaN     155.565416           NaN   \n",
       "min                     NaN        NaN       1.000000           NaN   \n",
       "25%                     NaN        NaN      28.000000           NaN   \n",
       "50%                     NaN        NaN      34.000000           NaN   \n",
       "75%                     NaN        NaN      43.000000           NaN   \n",
       "max                     NaN        NaN    2014.000000           NaN   \n",
       "\n",
       "         signup_flow language affiliate_channel affiliate_provider  \\\n",
       "count   213273.00000   213273            213273             213273   \n",
       "unique           NaN       25                 8                 18   \n",
       "top              NaN       en            direct             direct   \n",
       "freq             NaN   206137            137599             137299   \n",
       "first            NaN      NaN               NaN                NaN   \n",
       "last             NaN      NaN               NaN                NaN   \n",
       "mean         3.26739      NaN               NaN                NaN   \n",
       "std          7.63818      NaN               NaN                NaN   \n",
       "min          0.00000      NaN               NaN                NaN   \n",
       "25%          0.00000      NaN               NaN                NaN   \n",
       "50%          0.00000      NaN               NaN                NaN   \n",
       "75%          0.00000      NaN               NaN                NaN   \n",
       "max         25.00000      NaN               NaN                NaN   \n",
       "\n",
       "       first_affiliate_tracked signup_app first_device_type first_browser  \\\n",
       "count                   207212     213273            213273        213273   \n",
       "unique                       7          4                 9            52   \n",
       "top                  untracked        Web       Mac Desktop        Chrome   \n",
       "freq                    109133     182562             89512         63792   \n",
       "first                      NaN        NaN               NaN           NaN   \n",
       "last                       NaN        NaN               NaN           NaN   \n",
       "mean                       NaN        NaN               NaN           NaN   \n",
       "std                        NaN        NaN               NaN           NaN   \n",
       "min                        NaN        NaN               NaN           NaN   \n",
       "25%                        NaN        NaN               NaN           NaN   \n",
       "50%                        NaN        NaN               NaN           NaN   \n",
       "75%                        NaN        NaN               NaN           NaN   \n",
       "max                        NaN        NaN               NaN           NaN   \n",
       "\n",
       "       country_destination     delta_creation_active  \n",
       "count               213273                    213273  \n",
       "unique                  12                       NaN  \n",
       "top                    NDF                       NaN  \n",
       "freq                124489                       NaN  \n",
       "first                  NaN                       NaN  \n",
       "last                   NaN                       NaN  \n",
       "mean                   NaN  -1 days +11:15:27.181279  \n",
       "std                    NaN    0 days 08:04:00.099961  \n",
       "min                    NaN         -1 days +00:00:01  \n",
       "25%                    NaN         -1 days +03:50:48  \n",
       "50%                    NaN         -1 days +08:16:36  \n",
       "75%                    NaN         -1 days +19:21:00  \n",
       "max                    NaN         -1 days +23:59:59  "
      ]
     },
     "execution_count": 33,
     "metadata": {},
     "output_type": "execute_result"
    }
   ],
   "source": [
    "dfs['train_users_2'].describe(include='all')"
   ]
  },
  {
   "cell_type": "code",
   "execution_count": 34,
   "metadata": {},
   "outputs": [
    {
     "data": {
      "text/plain": [
       "-unknown-    95656\n",
       "FEMALE       62964\n",
       "MALE         54373\n",
       "OTHER          280\n",
       "Name: gender, dtype: int64"
      ]
     },
     "execution_count": 34,
     "metadata": {},
     "output_type": "execute_result"
    }
   ],
   "source": [
    "dfs['train_users_2']['gender'].value_counts()"
   ]
  },
  {
   "cell_type": "code",
   "execution_count": 35,
   "metadata": {},
   "outputs": [
    {
     "data": {
      "text/plain": [
       "NDF      124489\n",
       "US        62287\n",
       "other     10085\n",
       "FR         5019\n",
       "IT         2831\n",
       "GB         2317\n",
       "ES         2246\n",
       "CA         1425\n",
       "DE         1058\n",
       "NL          761\n",
       "AU          538\n",
       "PT          217\n",
       "Name: country_destination, dtype: int64"
      ]
     },
     "execution_count": 35,
     "metadata": {},
     "output_type": "execute_result"
    }
   ],
   "source": [
    "dfs['train_users_2'].country_destination.value_counts()"
   ]
  },
  {
   "cell_type": "code",
   "execution_count": 36,
   "metadata": {},
   "outputs": [
    {
     "data": {
      "text/plain": [
       "<matplotlib.axes._subplots.AxesSubplot at 0x7f6b63fe17f0>"
      ]
     },
     "execution_count": 36,
     "metadata": {},
     "output_type": "execute_result"
    },
    {
     "data": {
      "image/png": "[encoded data removed]",
      "text/plain": [
       "<Figure size 432x288 with 1 Axes>"
      ]
     },
     "metadata": {
      "needs_background": "light"
     },
     "output_type": "display_data"
    }
   ],
   "source": [
    "dfs['train_users_2'].country_destination.value_counts().plot.bar()"
   ]
  },
  {
   "cell_type": "code",
   "execution_count": 37,
   "metadata": {},
   "outputs": [
    {
     "data": {
      "text/plain": [
       "count    125304.000000\n",
       "mean         49.648535\n",
       "std         155.565416\n",
       "min           1.000000\n",
       "25%          28.000000\n",
       "50%          34.000000\n",
       "75%          43.000000\n",
       "max        2014.000000\n",
       "Name: age, dtype: float64"
      ]
     },
     "execution_count": 37,
     "metadata": {},
     "output_type": "execute_result"
    }
   ],
   "source": [
    "dfs['train_users_2'].age.describe()"
   ]
  },
  {
   "cell_type": "code",
   "execution_count": 38,
   "metadata": {},
   "outputs": [
    {
     "data": {
      "text/plain": [
       "<matplotlib.axes._subplots.AxesSubplot at 0x7f6b61f17dd8>"
      ]
     },
     "execution_count": 38,
     "metadata": {},
     "output_type": "execute_result"
    },
    {
     "data": {
      "image/png": "[encoded data removed]",
      "text/plain": [
       "<Figure size 432x288 with 1 Axes>"
      ]
     },
     "metadata": {
      "needs_background": "light"
     },
     "output_type": "display_data"
    }
   ],
   "source": [
    "dfs['train_users_2'].age.plot.box(vert=False)"
   ]
  },
  {
   "cell_type": "markdown",
   "metadata": {},
   "source": [
    "## Multivariate exploration"
   ]
  },
  {
   "cell_type": "markdown",
   "metadata": {},
   "source": [
    "Observations:\n",
    "+ unknown gender and NDF are highly correlated\n",
    "+ When a destination_country speaks the same language as the user, there is an increased probability that the user will go to that country.  However, users overwhelming are going to English speaking destinations, regardless of their chosen language.\n",
    "+ When a user is young, they are more likely to be female, whereas when they are older, there is equal probability of male or female."
   ]
  },
  {
   "cell_type": "markdown",
   "metadata": {},
   "source": [
    "Gender and country destination"
   ]
  },
  {
   "cell_type": "code",
   "execution_count": 39,
   "metadata": {},
   "outputs": [
    {
     "data": {
      "text/plain": [
       "<matplotlib.axes._subplots.AxesSubplot at 0x7f6b61eb4ef0>"
      ]
     },
     "execution_count": 39,
     "metadata": {},
     "output_type": "execute_result"
    },
    {
     "data": {
      "image/png": "[encoded data removed]",
      "text/plain": [
       "<Figure size 1440x720 with 1 Axes>"
      ]
     },
     "metadata": {
      "needs_background": "light"
     },
     "output_type": "display_data"
    }
   ],
   "source": [
    "plt.rcParams['figure.figsize'] = [20, 10]\n",
    "pd.crosstab(dfs['train_users_2']['country_destination'],dfs['train_users_2']['gender']).plot.bar()"
   ]
  },
  {
   "cell_type": "markdown",
   "metadata": {},
   "source": [
    "User language and language at destination (excluding language)"
   ]
  },
  {
   "cell_type": "code",
   "execution_count": 40,
   "metadata": {},
   "outputs": [
    {
     "data": {
      "image/png": "[encoded data removed]",
      "text/plain": [
       "<Figure size 1440x720 with 1 Axes>"
      ]
     },
     "metadata": {
      "needs_background": "light"
     },
     "output_type": "display_data"
    }
   ],
   "source": [
    "joined_country = dfs['train_users_2'].join(dfs['countries'].set_index('country_destination'), on='country_destination')\n",
    "joined_country_no_english = joined_country[joined_country['language'] != 'en']\n",
    "plt.rcParams['figure.figsize'] = [20, 10]\n",
    "ct = pd.crosstab(joined_country_no_english['language'],joined_country_no_english['destination_language ']).plot.bar()"
   ]
  },
  {
   "cell_type": "markdown",
   "metadata": {},
   "source": [
    "Age and gender among users"
   ]
  },
  {
   "cell_type": "code",
   "execution_count": 41,
   "metadata": {},
   "outputs": [
    {
     "data": {
      "text/plain": [
       "<matplotlib.axes._subplots.AxesSubplot at 0x7f6b61c3c588>"
      ]
     },
     "execution_count": 41,
     "metadata": {},
     "output_type": "execute_result"
    },
    {
     "data": {
      "image/png": "[encoded data removed]",
      "text/plain": [
       "<Figure size 1440x720 with 1 Axes>"
      ]
     },
     "metadata": {
      "needs_background": "light"
     },
     "output_type": "display_data"
    }
   ],
   "source": [
    "pd.crosstab(dfs['train_users_2']['age'],dfs['train_users_2']['gender']).plot.bar()"
   ]
  },
  {
   "cell_type": "markdown",
   "metadata": {},
   "source": [
    "# Full Structure of Solution"
   ]
  },
  {
   "cell_type": "markdown",
   "metadata": {},
   "source": [
    "- Code below is commented out due to being work-in-progress and not functional at the moment."
   ]
  },
  {
   "cell_type": "markdown",
   "metadata": {},
   "source": [
    "## Initial Pipeline"
   ]
  },
  {
   "cell_type": "markdown",
   "metadata": {},
   "source": [
    "+ Start with just train_users_2.  Adding the other tables would require feature engineering.\n",
    "  + The countries and age_buckets data can only be joined on country_destination, which does not exist in the training data.\n",
    "  + The sessions data would result in a one-to-many join, which isn't the right format for training a model.  We should summarize the sessions data and then join it to the train and test such that it would be a 1-to-1 join.\n",
    "+ The dictionary `dfs` contains the data frames that we will work on.\n",
    "+ We can't easily train on date or text of data.  These will be have to be engineered into another column.\n",
    "+ One feature was added during cleaning: `delta_creation_active`, which is difference between date_account_created and date_first_active.\n",
    "\n",
    "Notes on the code below\n",
    "+ The column transformer will drop columns that aren't explicitly specified.\n",
    "+ StandardScaler is used for numerical/continuous data.\n",
    "+ OneHotEncoder is used for categorical data."
   ]
  },
  {
   "cell_type": "code",
   "execution_count": 42,
   "metadata": {},
   "outputs": [
    {
     "data": {
      "text/html": [
       "<div>\n",
       "<style scoped>\n",
       "    .dataframe tbody tr th:only-of-type {\n",
       "        vertical-align: middle;\n",
       "    }\n",
       "\n",
       "    .dataframe tbody tr th {\n",
       "        vertical-align: top;\n",
       "    }\n",
       "\n",
       "    .dataframe thead th {\n",
       "        text-align: right;\n",
       "    }\n",
       "</style>\n",
       "<table border=\"1\" class=\"dataframe\">\n",
       "  <thead>\n",
       "    <tr style=\"text-align: right;\">\n",
       "      <th></th>\n",
       "      <th>days</th>\n",
       "      <th>range</th>\n",
       "    </tr>\n",
       "  </thead>\n",
       "  <tbody>\n",
       "    <tr>\n",
       "      <th>0</th>\n",
       "      <td>0</td>\n",
       "      <td>(-0.001, 30.0]</td>\n",
       "    </tr>\n",
       "    <tr>\n",
       "      <th>1</th>\n",
       "      <td>30</td>\n",
       "      <td>(-0.001, 30.0]</td>\n",
       "    </tr>\n",
       "    <tr>\n",
       "      <th>2</th>\n",
       "      <td>40</td>\n",
       "      <td>(30.0, 60.0]</td>\n",
       "    </tr>\n",
       "    <tr>\n",
       "      <th>3</th>\n",
       "      <td>45</td>\n",
       "      <td>(30.0, 60.0]</td>\n",
       "    </tr>\n",
       "  </tbody>\n",
       "</table>\n",
       "</div>"
      ],
      "text/plain": [
       "   days           range\n",
       "0     0  (-0.001, 30.0]\n",
       "1    30  (-0.001, 30.0]\n",
       "2    40    (30.0, 60.0]\n",
       "3    45    (30.0, 60.0]"
      ]
     },
     "metadata": {},
     "output_type": "display_data"
    }
   ],
   "source": [
    "test = pd.DataFrame({'days': [0,30,40,45]})\n",
    "test['range'] = pd.cut(test.days, [0,30,60], include_lowest=True,right=True)\n",
    "display(test)"
   ]
  },
  {
   "cell_type": "code",
   "execution_count": 65,
   "metadata": {},
   "outputs": [
    {
     "name": "stderr",
     "output_type": "stream",
     "text": [
      "/home/cventura/anaconda3/lib/python3.6/site-packages/sklearn/compose/_column_transformer.py:739: DeprecationWarning: `make_column_transformer` now expects (transformer, columns) as input tuples instead of (columns, transformer). This has been introduced in v0.20.1. `make_column_transformer` will stop accepting the deprecated (columns, transformer) order in v0.22.\n",
      "  warnings.warn(message, DeprecationWarning)\n"
     ]
    }
   ],
   "source": [
    "# import pandas as pd\n",
    "from sklearn.neighbors import KNeighborsClassifier\n",
    "from sklearn.preprocessing import StandardScaler, OneHotEncoder, FunctionTransformer, LabelEncoder\n",
    "from sklearn.compose import make_column_transformer\n",
    "from sklearn.pipeline import make_pipeline\n",
    "from sklearn.model_selection import cross_validate\n",
    "\n",
    "# Step 2\n",
    "# Read in training and test data from csv files.\n",
    "# train_user = pd.read_csv('unzipped_data/train_users_2.csv')\n",
    "# test_user = pd.read_csv('unzipped_data/test_users.csv')\n",
    "\n",
    "# Step 3\n",
    "# Split into data and labels (panda dataframes).\n",
    "#reduced this to 10k / 213k since it was taking forever to even test anything\n",
    "train_data   = dfs[\"train_users_2\"][:30000].iloc[:, 0:-1] #we should randomize since accounts are in chronological order\n",
    "train_labels = dfs[\"train_users_2\"][:30000][\"country_destination\"].ravel()\n",
    "test_data    = dfs[\"test_users\"]\n",
    "\n",
    "# Step 4\n",
    "# Clean and pre-process training data (e.g., filter missing/invalid entries).\n",
    "# Use OneHotEncoding and StandardScaler on features\n",
    "\n",
    "#Function to bucket ages prior to one-hot encoding\n",
    "def age_bucketer(df_input):\n",
    "    df = df_input\n",
    "    df.loc[(pd.isnull(df.age), 'age_bucket')] = 'unknown'\n",
    "    df.loc[(pd.notnull(df.age), 'age_bucket')] = pd.cut(df['age'],\n",
    "                                                        [0, 4, 9, 14, 19, 24, 29, 34, 39, 44, 49, 54, 59, 64, 69, 74, 79, 84, 89, 94,99,10000],\n",
    "                                                        labels=['0-4', '5-9', '10-14','15-19', '20-24', '25-29', '30-34', '35-39', '40-44', '45-49',\n",
    "                                                                '50-54', '55-59','60-64', '65-69','70-74','75-79','80-84','85-89','90-94','95-99','100+'],\n",
    "                                                       include_lowest=True)\n",
    "    return df.drop(['age'], axis=1)\n",
    "\n",
    "#Since NaN's in categorical data will cause issues with our pipeline we will replace that with \"unknown\".\n",
    "def clean_first_affiliate_tracked_nulls(df_input):\n",
    "    df_input['first_affiliate_tracked'] = df_input['first_affiliate_tracked'].fillna(\"unknown\", inplace=False)\n",
    "    return df_input\n",
    "\n",
    "#Add month and year features\n",
    "def feature_creator (df_input):\n",
    "    df = df_input\n",
    "    df['first_active_date'] = pd.to_datetime(df.timestamp_first_active,format='%Y%m%d%H%M%S')\n",
    "    df['year_first_active'] = df['first_active_date'].dt.year\n",
    "    df['month_first_active'] = df['first_active_date'].dt.month\n",
    "    return df.drop(['first_active_date'], axis=1)\n",
    "\n",
    "#Add session features\n",
    "#dfs['sessions'].groupby('user_id').agg({\"secs_elapsed\": np.sum, \"device_type\": pd.Series.nunique, 'action': 'count'}).reset_index(\n",
    "#    ).rename(columns={'secs_elapsed':'total_time', 'device_type':'unique_device_types', 'action': 'unique_actions'})\n",
    "\n",
    "column_transformer = make_column_transformer(\n",
    "     (['gender',\n",
    "       'signup_method',\n",
    "       'signup_flow',\n",
    "       'language',\n",
    "       'affiliate_channel',\n",
    "       'affiliate_provider',\n",
    "       'first_affiliate_tracked',\n",
    "       'signup_app',\n",
    "       'first_device_type',\n",
    "       'first_browser',\n",
    "       'age_bucket'\n",
    "     ], OneHotEncoder(handle_unknown='ignore')),remainder='drop') # when we add in sessions features we will want to pass remainders\n",
    "preprocessor = make_pipeline(\n",
    "    FunctionTransformer(age_bucketer, validate=False),\n",
    "    FunctionTransformer(feature_creator, validate=False),\n",
    "    FunctionTransformer(clean_first_affiliate_tracked_nulls, validate=False),\n",
    "    column_transformer)\n",
    "\n",
    "\n",
    "\n",
    "# Step 7\n",
    "# Generate predictions for test data to submit to Kaggle for scoring.\n",
    "# predictions = clf.predict(test_data)"
   ]
  },
  {
   "cell_type": "code",
   "execution_count": 86,
   "metadata": {},
   "outputs": [
    {
     "data": {
      "text/plain": [
       "(30000, 131)"
      ]
     },
     "execution_count": 86,
     "metadata": {},
     "output_type": "execute_result"
    }
   ],
   "source": [
    "from scipy.sparse import csr_matrix\n",
    "data=preprocessor.fit_transform(train_data)\n",
    "sp_arr = csr_matrix(data)\n",
    "sdf = pd.SparseDataFrame(sp_arr)\n",
    "\n",
    "sdf.shape"
   ]
  },
  {
   "cell_type": "code",
   "execution_count": 95,
   "metadata": {},
   "outputs": [],
   "source": [
    "# Step 5\n",
    "from sklearn.linear_model import LogisticRegression\n",
    "from sklearn.naive_bayes import BernoulliNB\n",
    "from sklearn.ensemble import RandomForestClassifier, VotingClassifier\n",
    "bnb = BernoulliNB()\n",
    "#bnbpipeline = make_pipeline(preprocessor, bnb)\n",
    "rf = RandomForestClassifier(n_jobs = -1)\n",
    "#rfpipeline = make_pipeline(preprocessor, rf)\n",
    "lr = LogisticRegression()\n",
    "#lrpipeline = make_pipeline(preprocessor, lr)\n",
    "\n",
    "\n",
    "# bnb_model = cross_validate(bnbpipeline, train_data, train_labels,\n",
    "#                      scoring=[\"f1_macro\"],\n",
    "#                      return_train_score=True, cv=3, n_jobs = -1)\n",
    "\n",
    "# rf_model = cross_validate(rfpipeline, train_data, train_labels,\n",
    "#                      scoring=[\"f1_macro\"],\n",
    "#                      return_train_score=True, cv=3, n_jobs = -1)\n",
    "\n",
    "# lr_model = cross_validate(lrpipeline, train_data, train_labels,\n",
    "#                      scoring=[\"f1_macro\"],\n",
    "#                      return_train_score=True, cv=3, n_jobs = -1)\n",
    "\n",
    "vc = VotingClassifier(estimators = [('bnb', bnb), ('rf', rf), ('lr', lr)], voting='hard')\n",
    "\n",
    "pipeline = make_pipeline(preprocessor, vc)\n",
    "\n",
    "final_model = cross_validate(pipeline, train_data, train_labels,\n",
    "                      scoring=[\"f1_macro\"],\n",
    "                      return_train_score=True, cv=3, n_jobs = -1)\n"
   ]
  },
  {
   "cell_type": "code",
   "execution_count": 96,
   "metadata": {},
   "outputs": [
    {
     "data": {
      "text/html": [
       "<div>\n",
       "<style scoped>\n",
       "    .dataframe tbody tr th:only-of-type {\n",
       "        vertical-align: middle;\n",
       "    }\n",
       "\n",
       "    .dataframe tbody tr th {\n",
       "        vertical-align: top;\n",
       "    }\n",
       "\n",
       "    .dataframe thead th {\n",
       "        text-align: right;\n",
       "    }\n",
       "</style>\n",
       "<table border=\"1\" class=\"dataframe\">\n",
       "  <thead>\n",
       "    <tr style=\"text-align: right;\">\n",
       "      <th></th>\n",
       "      <th>fit_time</th>\n",
       "      <th>score_time</th>\n",
       "      <th>test_f1_macro</th>\n",
       "      <th>train_f1_macro</th>\n",
       "    </tr>\n",
       "  </thead>\n",
       "  <tbody>\n",
       "    <tr>\n",
       "      <th>0</th>\n",
       "      <td>4.113975</td>\n",
       "      <td>0.364459</td>\n",
       "      <td>0.093813</td>\n",
       "      <td>0.154984</td>\n",
       "    </tr>\n",
       "    <tr>\n",
       "      <th>1</th>\n",
       "      <td>4.316767</td>\n",
       "      <td>0.344584</td>\n",
       "      <td>0.098824</td>\n",
       "      <td>0.165757</td>\n",
       "    </tr>\n",
       "    <tr>\n",
       "      <th>2</th>\n",
       "      <td>4.348206</td>\n",
       "      <td>0.373079</td>\n",
       "      <td>0.094616</td>\n",
       "      <td>0.172725</td>\n",
       "    </tr>\n",
       "  </tbody>\n",
       "</table>\n",
       "</div>"
      ],
      "text/plain": [
       "   fit_time  score_time  test_f1_macro  train_f1_macro\n",
       "0  4.113975    0.364459       0.093813        0.154984\n",
       "1  4.316767    0.344584       0.098824        0.165757\n",
       "2  4.348206    0.373079       0.094616        0.172725"
      ]
     },
     "metadata": {},
     "output_type": "display_data"
    }
   ],
   "source": [
    "display(pd.DataFrame(final_model))"
   ]
  },
  {
   "cell_type": "markdown",
   "metadata": {},
   "source": [
    "## Final Pipeline"
   ]
  },
  {
   "cell_type": "code",
   "execution_count": null,
   "metadata": {},
   "outputs": [],
   "source": [
    "# Step 1\n",
    "# Load necessary Python packages.\n",
    "\n",
    "# Step 2\n",
    "# Read in all given csv files for training and test.\n",
    "\n",
    "# Step 3\n",
    "# Split into data and labels (panda dataframes).\n",
    "# train_data   = train_user.iloc[:, 0:-1]\n",
    "# train_labels = train_user.iloc[:, -1:]\n",
    "# test_data    = test_user.iloc[:, 0:-1]\n",
    "# test_labels  = test_user.iloc[:, -1:]\n",
    "\n",
    "# Step 4\n",
    "# Clean training and test data (e.g., filter missing/invalid entries).\n",
    "\n",
    "# Step 5\n",
    "# Explore alternate encoding strategies compared to OneHotEncoder and StandardScaler using all datasets.\n",
    "# Create pipelines that can test strategies and be applied with multiple classifiers.\n",
    "# Pipelines also simplify usage of test data by ensuring that it receives equal processing.\n",
    "\n",
    "# Step 6\n",
    "# Use feature engineering to create new features from all training data: users, sessions, age_gender_bkts, countries.\n",
    "# Apply feature engineering to create same set of new features for both training and test datasets.\n",
    "# Examples of new features: transform age features into buckets, calculate lag features (e.g., time between first booking and account creation).\n",
    "\n",
    "# Step 7\n",
    "# Train several basic classifiers: KNN, decision tree, NB, etc.\n",
    "# Time permitting, train more complex classifiers: random forest, neural network, etc.\n",
    "\n",
    "# Step 8\n",
    "# Ensemble Learning - add meta-classifier to combine predictions of all classifiers from previous step.\n",
    "\n",
    "# Step 9\n",
    "# Validate prediction model using techniques: random subampling and bootstrapping.\n",
    "# Resolve any issues found (e.g., data leakage).\n",
    "\n",
    "# Step 10\n",
    "# Get accuracy using test data.\n",
    "\n",
    "# Step 11\n",
    "# Generate predictions for test data to submit to Kaggle for scoring."
   ]
  },
  {
   "cell_type": "markdown",
   "metadata": {},
   "source": [
    "# References"
   ]
  },
  {
   "cell_type": "markdown",
   "metadata": {},
   "source": [
    "[1] “Airbnb New User Bookings - Description” Kaggle, 24 Nov. 2015, https://www.kaggle.com/c/airbnb-recruiting-new-user-bookings#description.\n",
    "\n",
    "[2] Molnar, Christoph “Feature Importance” Interpretable Machine Learning, https://christophm.github.io/interpretable-ml-book/feature-importance.html.\n",
    "\n",
    "[3] Fisher, Rudin, and Dominici “All Models are Wrong but many are Useful: Variable Importance for Black-Box, Proprietary, or Misspecified Prediction Models, using Model Class Reliance” arXiv, https://arxiv.org/abs/1801.01489v3.\n",
    "\n",
    "[4] “Airbnb New User Bookings - Evaluation” Kaggle, 24 Nov. 2015, https://www.kaggle.com/c/airbnb-recruiting-new-user-bookings#evaluation.\n",
    "\n",
    "[5]  Smolyakov, Vadim. “Ensemble Learning to Improve Machine Learning Results.” <i>Stats and Bots</i>, 22 Aug. 2017, blog.statsbot.co/ensemble-learning-d1dcd548e936.\n",
    "\n",
    "[6]  Zinkevich, M. 2017. Rules of Machine Learning: Best Practices for ML Engineering.  http://martin.zinkevich.org/rules_of_ml/rules_of_ml.pdf.\n",
    "\n",
    "[7]  “Airbnb New User Bookings, Winner's Interview: 2nd Place, Keiichi Kuroyanagi (@Keiku).” <i>No Free Hunch</i>, 15 Mar. 2016, blog.kaggle.com/2016/03/17/airbnb-new-user-bookings-winners-interview-2nd-place-keiichi-kuroyanagi-keiku/.\n",
    "\n",
    "[8]  Shekhar, Amit. “What Is Feature Engineering for Machine Learning? – MindOrks – Medium.” <i>Medium.com</i>, Medium, 14 Feb. 2018, medium.com/mindorks/what-is-feature-engineering-for-machine-learning-d8ba3158d97a.\n",
    "\n",
    "[9]  “Airbnb New User Bookings, Winners Interview: 3rd Place: Sandro Vega Pons.” <i>No Free Hunch</i>, 15 Mar. 2016, blog.kaggle.com/2016/03/07/airbnb-new-user-bookings-winners-interview-3rd-place-sandro-vega-pons/.\n",
    "\n",
    "[10]  Kumar, Ajitesh. “Machine Learning: Validation Techniques - DZone AI.” <i>Dzone.com</i>, 12 Feb. 2018, dzone.com/articles/machine-learning-validation-techniques.\n",
    "\n",
    "[11]  Brownlee, Jason. “Data Leakage in Machine Learning.” <i>Machine Learning Mastery</i>, 31 July 2018, machinelearningmastery.com/data-leakage-machine-learning/.\n",
    "\n",
    "[12]  Brownlee, Jason. “A Gentle Introduction to XGBoost for Applied Machine Learning.” <i>Machine Learning Mastery</i>, 21 Sept. 2016, machinelearningmastery.com/gentle-introduction-xgboost-applied-machine-learning/."
   ]
  }
 ],
 "metadata": {
  "kernelspec": {
   "display_name": "Python 3",
   "language": "python",
   "name": "python3"
  },
  "language_info": {
   "codemirror_mode": {
    "name": "ipython",
    "version": 3
   },
   "file_extension": ".py",
   "mimetype": "text/x-python",
   "name": "python",
   "nbconvert_exporter": "python",
   "pygments_lexer": "ipython3",
   "version": "3.6.6"
  }
 },
 "nbformat": 4,
 "nbformat_minor": 2
}
